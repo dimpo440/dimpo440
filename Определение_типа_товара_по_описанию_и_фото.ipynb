{
  "nbformat": 4,
  "nbformat_minor": 0,
  "metadata": {
    "colab": {
      "name": "Определение типа товара по описанию и фото",
      "provenance": [],
      "collapsed_sections": [
        "o0i2MUlo7PrW",
        "p3gpeNUG7V8r",
        "IjFcOqHo9Co0",
        "_NVRyyyB8inI",
        "zbbyopRdwZqG",
        "WNBB1_bJ8tYL",
        "-PTu002480Jb",
        "FdLIQCMbvVPp"
      ],
      "include_colab_link": true
    },
    "kernelspec": {
      "name": "python3",
      "display_name": "Python 3"
    },
    "language_info": {
      "name": "python"
    },
    "accelerator": "GPU"
  },
  "cells": [
    {
      "cell_type": "markdown",
      "metadata": {
        "id": "view-in-github",
        "colab_type": "text"
      },
      "source": [
        "<a href=\"https://colab.research.google.com/github/dimpo440/dimpo440/blob/main/%D0%9E%D0%BF%D1%80%D0%B5%D0%B4%D0%B5%D0%BB%D0%B5%D0%BD%D0%B8%D0%B5_%D1%82%D0%B8%D0%BF%D0%B0_%D1%82%D0%BE%D0%B2%D0%B0%D1%80%D0%B0_%D0%BF%D0%BE_%D0%BE%D0%BF%D0%B8%D1%81%D0%B0%D0%BD%D0%B8%D1%8E_%D0%B8_%D1%84%D0%BE%D1%82%D0%BE.ipynb\" target=\"_parent\"><img src=\"https://colab.research.google.com/assets/colab-badge.svg\" alt=\"Open In Colab\"/></a>"
      ]
    },
    {
      "cell_type": "code",
      "source": [
        "import numpy as np\n",
        "import pandas as pd\n",
        "import tensorflow as tf\n",
        "from PIL import Image\n",
        "import requests\n",
        "from io import BytesIO\n",
        "import re\n",
        "import matplotlib.pyplot as plt\n",
        "# !pip install aiohttp\n",
        "# import asyncio\n",
        "# !pip install aiofiles\n",
        "# !pip install nest_asyncio"
      ],
      "metadata": {
        "id": "ixLEcR5Rg8Xk"
      },
      "execution_count": null,
      "outputs": []
    },
    {
      "cell_type": "code",
      "source": [
        "import nest_asyncio\n",
        "import aiohttp\n",
        "import aiofiles\n",
        "nest_asyncio.apply()"
      ],
      "metadata": {
        "id": "3A7TO2w-R0t8"
      },
      "execution_count": null,
      "outputs": []
    },
    {
      "cell_type": "code",
      "source": [
        "from google.colab import drive\n",
        "drive.mount('/content/drive')"
      ],
      "metadata": {
        "colab": {
          "base_uri": "https://localhost:8080/"
        },
        "id": "G2OiiwKl_1hS",
        "outputId": "8d256669-5a57-4e2f-8261-104d93c2b21a"
      },
      "execution_count": null,
      "outputs": [
        {
          "output_type": "stream",
          "name": "stdout",
          "text": [
            "Mounted at /content/drive\n"
          ]
        }
      ]
    },
    {
      "cell_type": "code",
      "source": [
        "import random\n",
        "import pickle\n",
        "import time"
      ],
      "metadata": {
        "id": "yKvaBT4Ze8Xq"
      },
      "execution_count": null,
      "outputs": []
    },
    {
      "cell_type": "markdown",
      "source": [
        "# Загрузка csv и обработка"
      ],
      "metadata": {
        "id": "Jge7YqMO6o7A"
      }
    },
    {
      "cell_type": "markdown",
      "source": [
        "## Загрузка"
      ],
      "metadata": {
        "id": "o0i2MUlo7PrW"
      }
    },
    {
      "cell_type": "code",
      "source": [
        "import pandas as pd"
      ],
      "metadata": {
        "id": "jvZkji-j7VnC"
      },
      "execution_count": null,
      "outputs": []
    },
    {
      "cell_type": "code",
      "source": [
        "data = pd.read_excel(\"/content/drive/MyDrive/blackcatshop/Товары.xlsx\")"
      ],
      "metadata": {
        "id": "dVZdnUao9uax"
      },
      "execution_count": null,
      "outputs": []
    },
    {
      "cell_type": "markdown",
      "source": [
        "## Просмотр"
      ],
      "metadata": {
        "id": "p3gpeNUG7V8r"
      }
    },
    {
      "cell_type": "code",
      "execution_count": null,
      "metadata": {
        "colab": {
          "base_uri": "https://localhost:8080/"
        },
        "id": "e_0JIPGD6bOy",
        "outputId": "5bef7f6b-918f-48eb-ea1d-442d367caec4"
      },
      "outputs": [
        {
          "output_type": "execute_result",
          "data": {
            "text/plain": [
              "                                          Название товара  Полное описание  \\\n",
              "count                                               12261            10714   \n",
              "unique                                              12207             7285   \n",
              "top     Anju Beaute - Шампунь \"Текстурный\" для объема:...                0   \n",
              "freq                                                    4              310   \n",
              "\n",
              "                                              Изображения  Артикул  \\\n",
              "count                                               10297    12261   \n",
              "unique                                              10297    12261   \n",
              "top     https://static.insales-cdn.com/images/products...    24112   \n",
              "freq                                                    1        1   \n",
              "\n",
              "       Параметр: Тип товара  \n",
              "count                  8896  \n",
              "unique                   44  \n",
              "top                    Корм  \n",
              "freq                   4756  "
            ],
            "text/html": [
              "\n",
              "  <div id=\"df-7dc08d81-8b04-43fd-a9c3-fd88c2e5294f\">\n",
              "    <div class=\"colab-df-container\">\n",
              "      <div>\n",
              "<style scoped>\n",
              "    .dataframe tbody tr th:only-of-type {\n",
              "        vertical-align: middle;\n",
              "    }\n",
              "\n",
              "    .dataframe tbody tr th {\n",
              "        vertical-align: top;\n",
              "    }\n",
              "\n",
              "    .dataframe thead th {\n",
              "        text-align: right;\n",
              "    }\n",
              "</style>\n",
              "<table border=\"1\" class=\"dataframe\">\n",
              "  <thead>\n",
              "    <tr style=\"text-align: right;\">\n",
              "      <th></th>\n",
              "      <th>Название товара</th>\n",
              "      <th>Полное описание</th>\n",
              "      <th>Изображения</th>\n",
              "      <th>Артикул</th>\n",
              "      <th>Параметр: Тип товара</th>\n",
              "    </tr>\n",
              "  </thead>\n",
              "  <tbody>\n",
              "    <tr>\n",
              "      <th>count</th>\n",
              "      <td>12261</td>\n",
              "      <td>10714</td>\n",
              "      <td>10297</td>\n",
              "      <td>12261</td>\n",
              "      <td>8896</td>\n",
              "    </tr>\n",
              "    <tr>\n",
              "      <th>unique</th>\n",
              "      <td>12207</td>\n",
              "      <td>7285</td>\n",
              "      <td>10297</td>\n",
              "      <td>12261</td>\n",
              "      <td>44</td>\n",
              "    </tr>\n",
              "    <tr>\n",
              "      <th>top</th>\n",
              "      <td>Anju Beaute - Шампунь \"Текстурный\" для объема:...</td>\n",
              "      <td>0</td>\n",
              "      <td>https://static.insales-cdn.com/images/products...</td>\n",
              "      <td>24112</td>\n",
              "      <td>Корм</td>\n",
              "    </tr>\n",
              "    <tr>\n",
              "      <th>freq</th>\n",
              "      <td>4</td>\n",
              "      <td>310</td>\n",
              "      <td>1</td>\n",
              "      <td>1</td>\n",
              "      <td>4756</td>\n",
              "    </tr>\n",
              "  </tbody>\n",
              "</table>\n",
              "</div>\n",
              "      <button class=\"colab-df-convert\" onclick=\"convertToInteractive('df-7dc08d81-8b04-43fd-a9c3-fd88c2e5294f')\"\n",
              "              title=\"Convert this dataframe to an interactive table.\"\n",
              "              style=\"display:none;\">\n",
              "        \n",
              "  <svg xmlns=\"http://www.w3.org/2000/svg\" height=\"24px\"viewBox=\"0 0 24 24\"\n",
              "       width=\"24px\">\n",
              "    <path d=\"M0 0h24v24H0V0z\" fill=\"none\"/>\n",
              "    <path d=\"M18.56 5.44l.94 2.06.94-2.06 2.06-.94-2.06-.94-.94-2.06-.94 2.06-2.06.94zm-11 1L8.5 8.5l.94-2.06 2.06-.94-2.06-.94L8.5 2.5l-.94 2.06-2.06.94zm10 10l.94 2.06.94-2.06 2.06-.94-2.06-.94-.94-2.06-.94 2.06-2.06.94z\"/><path d=\"M17.41 7.96l-1.37-1.37c-.4-.4-.92-.59-1.43-.59-.52 0-1.04.2-1.43.59L10.3 9.45l-7.72 7.72c-.78.78-.78 2.05 0 2.83L4 21.41c.39.39.9.59 1.41.59.51 0 1.02-.2 1.41-.59l7.78-7.78 2.81-2.81c.8-.78.8-2.07 0-2.86zM5.41 20L4 18.59l7.72-7.72 1.47 1.35L5.41 20z\"/>\n",
              "  </svg>\n",
              "      </button>\n",
              "      \n",
              "  <style>\n",
              "    .colab-df-container {\n",
              "      display:flex;\n",
              "      flex-wrap:wrap;\n",
              "      gap: 12px;\n",
              "    }\n",
              "\n",
              "    .colab-df-convert {\n",
              "      background-color: #E8F0FE;\n",
              "      border: none;\n",
              "      border-radius: 50%;\n",
              "      cursor: pointer;\n",
              "      display: none;\n",
              "      fill: #1967D2;\n",
              "      height: 32px;\n",
              "      padding: 0 0 0 0;\n",
              "      width: 32px;\n",
              "    }\n",
              "\n",
              "    .colab-df-convert:hover {\n",
              "      background-color: #E2EBFA;\n",
              "      box-shadow: 0px 1px 2px rgba(60, 64, 67, 0.3), 0px 1px 3px 1px rgba(60, 64, 67, 0.15);\n",
              "      fill: #174EA6;\n",
              "    }\n",
              "\n",
              "    [theme=dark] .colab-df-convert {\n",
              "      background-color: #3B4455;\n",
              "      fill: #D2E3FC;\n",
              "    }\n",
              "\n",
              "    [theme=dark] .colab-df-convert:hover {\n",
              "      background-color: #434B5C;\n",
              "      box-shadow: 0px 1px 3px 1px rgba(0, 0, 0, 0.15);\n",
              "      filter: drop-shadow(0px 1px 2px rgba(0, 0, 0, 0.3));\n",
              "      fill: #FFFFFF;\n",
              "    }\n",
              "  </style>\n",
              "\n",
              "      <script>\n",
              "        const buttonEl =\n",
              "          document.querySelector('#df-7dc08d81-8b04-43fd-a9c3-fd88c2e5294f button.colab-df-convert');\n",
              "        buttonEl.style.display =\n",
              "          google.colab.kernel.accessAllowed ? 'block' : 'none';\n",
              "\n",
              "        async function convertToInteractive(key) {\n",
              "          const element = document.querySelector('#df-7dc08d81-8b04-43fd-a9c3-fd88c2e5294f');\n",
              "          const dataTable =\n",
              "            await google.colab.kernel.invokeFunction('convertToInteractive',\n",
              "                                                     [key], {});\n",
              "          if (!dataTable) return;\n",
              "\n",
              "          const docLinkHtml = 'Like what you see? Visit the ' +\n",
              "            '<a target=\"_blank\" href=https://colab.research.google.com/notebooks/data_table.ipynb>data table notebook</a>'\n",
              "            + ' to learn more about interactive tables.';\n",
              "          element.innerHTML = '';\n",
              "          dataTable['output_type'] = 'display_data';\n",
              "          await google.colab.output.renderOutput(dataTable, element);\n",
              "          const docLink = document.createElement('div');\n",
              "          docLink.innerHTML = docLinkHtml;\n",
              "          element.appendChild(docLink);\n",
              "        }\n",
              "      </script>\n",
              "    </div>\n",
              "  </div>\n",
              "  "
            ]
          },
          "metadata": {},
          "execution_count": 6
        }
      ],
      "source": [
        "data.describe()"
      ]
    },
    {
      "cell_type": "code",
      "source": [
        "data"
      ],
      "metadata": {
        "colab": {
          "base_uri": "https://localhost:8080/"
        },
        "id": "wx6sh2WNPYSx",
        "outputId": "527349a2-de07-44b5-b116-0b2c77b4a7a5"
      },
      "execution_count": null,
      "outputs": [
        {
          "output_type": "execute_result",
          "data": {
            "text/plain": [
              "                                         Название товара  \\\n",
              "0          1st Choice - \"Здоровая кожа и шерсть\" 2,72 кг   \n",
              "1          1st Choice - \"Здоровая кожа и шерсть\" 5,44 кг   \n",
              "2      1st Choice - Для домашних кошек с цыпленком 0,...   \n",
              "3      1st Choice - Для домашних кошек с цыпленком 2,...   \n",
              "4      1st Choice - Для домашних кошек с цыпленком 5,...   \n",
              "...                                                  ...   \n",
              "12256  Родные корма - Сухой корм для взрослых собак с...   \n",
              "12257  Родные корма - Сухой корм для взрослых собак с...   \n",
              "12258  Родные корма - Сухой корм для взрослых стерили...   \n",
              "12259  Родные корма - Сухой корм для взрослых стерили...   \n",
              "12260    Родные корма - Сухой корм для щенков - 16,38 кг   \n",
              "\n",
              "                                         Полное описание  \\\n",
              "0      <p>Формула 1st CHOICE HEALTHY SKIN &amp; COAT&...   \n",
              "1      <p>Формула 1st CHOICE HEALTHY SKIN &amp; COAT&...   \n",
              "2      <p>1st CHOICE VITALITY INDOOR&nbsp;- идеальная...   \n",
              "3      <p>1st CHOICE VITALITY INDOOR&nbsp;- идеальная...   \n",
              "4      <p>1st CHOICE VITALITY INDOOR&nbsp;- идеальная...   \n",
              "...                                                  ...   \n",
              "12256  <div><strong>Сухой корм для собак \"Родные корм...   \n",
              "12257  <div><strong>Сухой корм для собак \"Родные корм...   \n",
              "12258  <div><strong>Сухой корм для кошек \"Родные корм...   \n",
              "12259  <div><strong>Сухой корм для кошек \"Родные корм...   \n",
              "12260  <p style=\"font-weight: 400;\"><strong>Сухой кор...   \n",
              "\n",
              "                                             Изображения Артикул  \\\n",
              "0      https://static.insales-cdn.com/images/products...   24112   \n",
              "1      https://static.insales-cdn.com/images/products...   23628   \n",
              "2      https://static.insales-cdn.com/images/products...   23515   \n",
              "3      https://static.insales-cdn.com/images/products...   24115   \n",
              "4      https://static.insales-cdn.com/images/products...   20097   \n",
              "...                                                  ...     ...   \n",
              "12256  https://static.insales-cdn.com/images/products...   49315   \n",
              "12257  https://static.insales-cdn.com/images/products...   34301   \n",
              "12258  https://static.insales-cdn.com/images/products...   34280   \n",
              "12259  https://static.insales-cdn.com/images/products...   34285   \n",
              "12260  https://static.insales-cdn.com/images/products...   34296   \n",
              "\n",
              "      Параметр: Тип товара  \n",
              "0                     Корм  \n",
              "1                     Корм  \n",
              "2                     Корм  \n",
              "3                     Корм  \n",
              "4                     Корм  \n",
              "...                    ...  \n",
              "12256                  NaN  \n",
              "12257                  NaN  \n",
              "12258                  NaN  \n",
              "12259                  NaN  \n",
              "12260                  NaN  \n",
              "\n",
              "[12261 rows x 5 columns]"
            ],
            "text/html": [
              "\n",
              "  <div id=\"df-16238266-07aa-4b78-b570-66548fc9b697\">\n",
              "    <div class=\"colab-df-container\">\n",
              "      <div>\n",
              "<style scoped>\n",
              "    .dataframe tbody tr th:only-of-type {\n",
              "        vertical-align: middle;\n",
              "    }\n",
              "\n",
              "    .dataframe tbody tr th {\n",
              "        vertical-align: top;\n",
              "    }\n",
              "\n",
              "    .dataframe thead th {\n",
              "        text-align: right;\n",
              "    }\n",
              "</style>\n",
              "<table border=\"1\" class=\"dataframe\">\n",
              "  <thead>\n",
              "    <tr style=\"text-align: right;\">\n",
              "      <th></th>\n",
              "      <th>Название товара</th>\n",
              "      <th>Полное описание</th>\n",
              "      <th>Изображения</th>\n",
              "      <th>Артикул</th>\n",
              "      <th>Параметр: Тип товара</th>\n",
              "    </tr>\n",
              "  </thead>\n",
              "  <tbody>\n",
              "    <tr>\n",
              "      <th>0</th>\n",
              "      <td>1st Choice - \"Здоровая кожа и шерсть\" 2,72 кг</td>\n",
              "      <td>&lt;p&gt;Формула 1st CHOICE HEALTHY SKIN &amp;amp; COAT&amp;...</td>\n",
              "      <td>https://static.insales-cdn.com/images/products...</td>\n",
              "      <td>24112</td>\n",
              "      <td>Корм</td>\n",
              "    </tr>\n",
              "    <tr>\n",
              "      <th>1</th>\n",
              "      <td>1st Choice - \"Здоровая кожа и шерсть\" 5,44 кг</td>\n",
              "      <td>&lt;p&gt;Формула 1st CHOICE HEALTHY SKIN &amp;amp; COAT&amp;...</td>\n",
              "      <td>https://static.insales-cdn.com/images/products...</td>\n",
              "      <td>23628</td>\n",
              "      <td>Корм</td>\n",
              "    </tr>\n",
              "    <tr>\n",
              "      <th>2</th>\n",
              "      <td>1st Choice - Для домашних кошек с цыпленком 0,...</td>\n",
              "      <td>&lt;p&gt;1st CHOICE VITALITY INDOOR&amp;nbsp;- идеальная...</td>\n",
              "      <td>https://static.insales-cdn.com/images/products...</td>\n",
              "      <td>23515</td>\n",
              "      <td>Корм</td>\n",
              "    </tr>\n",
              "    <tr>\n",
              "      <th>3</th>\n",
              "      <td>1st Choice - Для домашних кошек с цыпленком 2,...</td>\n",
              "      <td>&lt;p&gt;1st CHOICE VITALITY INDOOR&amp;nbsp;- идеальная...</td>\n",
              "      <td>https://static.insales-cdn.com/images/products...</td>\n",
              "      <td>24115</td>\n",
              "      <td>Корм</td>\n",
              "    </tr>\n",
              "    <tr>\n",
              "      <th>4</th>\n",
              "      <td>1st Choice - Для домашних кошек с цыпленком 5,...</td>\n",
              "      <td>&lt;p&gt;1st CHOICE VITALITY INDOOR&amp;nbsp;- идеальная...</td>\n",
              "      <td>https://static.insales-cdn.com/images/products...</td>\n",
              "      <td>20097</td>\n",
              "      <td>Корм</td>\n",
              "    </tr>\n",
              "    <tr>\n",
              "      <th>...</th>\n",
              "      <td>...</td>\n",
              "      <td>...</td>\n",
              "      <td>...</td>\n",
              "      <td>...</td>\n",
              "      <td>...</td>\n",
              "    </tr>\n",
              "    <tr>\n",
              "      <th>12256</th>\n",
              "      <td>Родные корма - Сухой корм для взрослых собак с...</td>\n",
              "      <td>&lt;div&gt;&lt;strong&gt;Сухой корм для собак \"Родные корм...</td>\n",
              "      <td>https://static.insales-cdn.com/images/products...</td>\n",
              "      <td>49315</td>\n",
              "      <td>NaN</td>\n",
              "    </tr>\n",
              "    <tr>\n",
              "      <th>12257</th>\n",
              "      <td>Родные корма - Сухой корм для взрослых собак с...</td>\n",
              "      <td>&lt;div&gt;&lt;strong&gt;Сухой корм для собак \"Родные корм...</td>\n",
              "      <td>https://static.insales-cdn.com/images/products...</td>\n",
              "      <td>34301</td>\n",
              "      <td>NaN</td>\n",
              "    </tr>\n",
              "    <tr>\n",
              "      <th>12258</th>\n",
              "      <td>Родные корма - Сухой корм для взрослых стерили...</td>\n",
              "      <td>&lt;div&gt;&lt;strong&gt;Сухой корм для кошек \"Родные корм...</td>\n",
              "      <td>https://static.insales-cdn.com/images/products...</td>\n",
              "      <td>34280</td>\n",
              "      <td>NaN</td>\n",
              "    </tr>\n",
              "    <tr>\n",
              "      <th>12259</th>\n",
              "      <td>Родные корма - Сухой корм для взрослых стерили...</td>\n",
              "      <td>&lt;div&gt;&lt;strong&gt;Сухой корм для кошек \"Родные корм...</td>\n",
              "      <td>https://static.insales-cdn.com/images/products...</td>\n",
              "      <td>34285</td>\n",
              "      <td>NaN</td>\n",
              "    </tr>\n",
              "    <tr>\n",
              "      <th>12260</th>\n",
              "      <td>Родные корма - Сухой корм для щенков - 16,38 кг</td>\n",
              "      <td>&lt;p style=\"font-weight: 400;\"&gt;&lt;strong&gt;Сухой кор...</td>\n",
              "      <td>https://static.insales-cdn.com/images/products...</td>\n",
              "      <td>34296</td>\n",
              "      <td>NaN</td>\n",
              "    </tr>\n",
              "  </tbody>\n",
              "</table>\n",
              "<p>12261 rows × 5 columns</p>\n",
              "</div>\n",
              "      <button class=\"colab-df-convert\" onclick=\"convertToInteractive('df-16238266-07aa-4b78-b570-66548fc9b697')\"\n",
              "              title=\"Convert this dataframe to an interactive table.\"\n",
              "              style=\"display:none;\">\n",
              "        \n",
              "  <svg xmlns=\"http://www.w3.org/2000/svg\" height=\"24px\"viewBox=\"0 0 24 24\"\n",
              "       width=\"24px\">\n",
              "    <path d=\"M0 0h24v24H0V0z\" fill=\"none\"/>\n",
              "    <path d=\"M18.56 5.44l.94 2.06.94-2.06 2.06-.94-2.06-.94-.94-2.06-.94 2.06-2.06.94zm-11 1L8.5 8.5l.94-2.06 2.06-.94-2.06-.94L8.5 2.5l-.94 2.06-2.06.94zm10 10l.94 2.06.94-2.06 2.06-.94-2.06-.94-.94-2.06-.94 2.06-2.06.94z\"/><path d=\"M17.41 7.96l-1.37-1.37c-.4-.4-.92-.59-1.43-.59-.52 0-1.04.2-1.43.59L10.3 9.45l-7.72 7.72c-.78.78-.78 2.05 0 2.83L4 21.41c.39.39.9.59 1.41.59.51 0 1.02-.2 1.41-.59l7.78-7.78 2.81-2.81c.8-.78.8-2.07 0-2.86zM5.41 20L4 18.59l7.72-7.72 1.47 1.35L5.41 20z\"/>\n",
              "  </svg>\n",
              "      </button>\n",
              "      \n",
              "  <style>\n",
              "    .colab-df-container {\n",
              "      display:flex;\n",
              "      flex-wrap:wrap;\n",
              "      gap: 12px;\n",
              "    }\n",
              "\n",
              "    .colab-df-convert {\n",
              "      background-color: #E8F0FE;\n",
              "      border: none;\n",
              "      border-radius: 50%;\n",
              "      cursor: pointer;\n",
              "      display: none;\n",
              "      fill: #1967D2;\n",
              "      height: 32px;\n",
              "      padding: 0 0 0 0;\n",
              "      width: 32px;\n",
              "    }\n",
              "\n",
              "    .colab-df-convert:hover {\n",
              "      background-color: #E2EBFA;\n",
              "      box-shadow: 0px 1px 2px rgba(60, 64, 67, 0.3), 0px 1px 3px 1px rgba(60, 64, 67, 0.15);\n",
              "      fill: #174EA6;\n",
              "    }\n",
              "\n",
              "    [theme=dark] .colab-df-convert {\n",
              "      background-color: #3B4455;\n",
              "      fill: #D2E3FC;\n",
              "    }\n",
              "\n",
              "    [theme=dark] .colab-df-convert:hover {\n",
              "      background-color: #434B5C;\n",
              "      box-shadow: 0px 1px 3px 1px rgba(0, 0, 0, 0.15);\n",
              "      filter: drop-shadow(0px 1px 2px rgba(0, 0, 0, 0.3));\n",
              "      fill: #FFFFFF;\n",
              "    }\n",
              "  </style>\n",
              "\n",
              "      <script>\n",
              "        const buttonEl =\n",
              "          document.querySelector('#df-16238266-07aa-4b78-b570-66548fc9b697 button.colab-df-convert');\n",
              "        buttonEl.style.display =\n",
              "          google.colab.kernel.accessAllowed ? 'block' : 'none';\n",
              "\n",
              "        async function convertToInteractive(key) {\n",
              "          const element = document.querySelector('#df-16238266-07aa-4b78-b570-66548fc9b697');\n",
              "          const dataTable =\n",
              "            await google.colab.kernel.invokeFunction('convertToInteractive',\n",
              "                                                     [key], {});\n",
              "          if (!dataTable) return;\n",
              "\n",
              "          const docLinkHtml = 'Like what you see? Visit the ' +\n",
              "            '<a target=\"_blank\" href=https://colab.research.google.com/notebooks/data_table.ipynb>data table notebook</a>'\n",
              "            + ' to learn more about interactive tables.';\n",
              "          element.innerHTML = '';\n",
              "          dataTable['output_type'] = 'display_data';\n",
              "          await google.colab.output.renderOutput(dataTable, element);\n",
              "          const docLink = document.createElement('div');\n",
              "          docLink.innerHTML = docLinkHtml;\n",
              "          element.appendChild(docLink);\n",
              "        }\n",
              "      </script>\n",
              "    </div>\n",
              "  </div>\n",
              "  "
            ]
          },
          "metadata": {},
          "execution_count": 7
        }
      ]
    },
    {
      "cell_type": "code",
      "source": [
        "data.info()"
      ],
      "metadata": {
        "colab": {
          "base_uri": "https://localhost:8080/"
        },
        "id": "Dzrf7lbMYZLa",
        "outputId": "fa440d36-30f9-4587-a131-3ce2e09b196a"
      },
      "execution_count": null,
      "outputs": [
        {
          "output_type": "stream",
          "name": "stdout",
          "text": [
            "<class 'pandas.core.frame.DataFrame'>\n",
            "RangeIndex: 12261 entries, 0 to 12260\n",
            "Data columns (total 5 columns):\n",
            " #   Column                Non-Null Count  Dtype \n",
            "---  ------                --------------  ----- \n",
            " 0   Название товара       12261 non-null  object\n",
            " 1   Полное описание       10714 non-null  object\n",
            " 2   Изображения           10297 non-null  object\n",
            " 3   Артикул               12261 non-null  object\n",
            " 4   Параметр: Тип товара  8896 non-null   object\n",
            "dtypes: object(5)\n",
            "memory usage: 479.1+ KB\n"
          ]
        }
      ]
    },
    {
      "cell_type": "code",
      "source": [
        "data['Параметр: Тип товара'].unique()"
      ],
      "metadata": {
        "colab": {
          "base_uri": "https://localhost:8080/"
        },
        "id": "FeZSfreU_-r9",
        "outputId": "0ea1b184-fe3e-4cb5-82a4-4bd576a63524"
      },
      "execution_count": null,
      "outputs": [
        {
          "output_type": "execute_result",
          "data": {
            "text/plain": [
              "array(['Корм', 'Наполнители', 'Переноска', 'Прочее (транспортировка)',\n",
              "       'Автокормушка', 'Автопоилка', 'Пеленки', 'Фильтры для туалета',\n",
              "       'Коврик для туалета', 'Пакеты для туалета', 'Лотки', nan,\n",
              "       'Совочек для туалета', 'Контейнер', 'Миска', 'Лежанка',\n",
              "       'Когтеточки', 'Закрытые туалеты', 'Шампунь', 'Прочая косметика',\n",
              "       'Кондиционер', 'Домик', 'Игрушки', 'Лакомства', 'Витамины',\n",
              "       'Сумка', 'Ошейники', 'Шлейки', 'Намордники', 'Когтерез', 'Клетка',\n",
              "       'Пакеты для прогулки', 'Адресники', 'Поводки', 'Удавка',\n",
              "       'Прочее (амуниция)', 'Вольер', 'Фурминатор/Дешеддер',\n",
              "       'Защитный воротник', 'Антибиотики', 'Прочее (ветаптека)',\n",
              "       'Рулетки', 'Ринговка', 'Кормушка', 'Прочее'], dtype=object)"
            ]
          },
          "metadata": {},
          "execution_count": 9
        }
      ]
    },
    {
      "cell_type": "code",
      "source": [
        "data['Параметр: Тип товара'] = data['Параметр: Тип товара'].astype(\"string\")\n",
        "data['Название товара'] = data['Название товара'].astype(\"string\")\n",
        "data['Полное описание'] = data['Полное описание'].astype(\"string\")\n",
        "data['Изображения'] = data['Изображения'].astype(\"string\")\n",
        "data['Артикул'] = data['Артикул'].astype(\"string\")\n"
      ],
      "metadata": {
        "id": "1w23SCU1BM_0"
      },
      "execution_count": null,
      "outputs": []
    },
    {
      "cell_type": "code",
      "source": [
        "prod_type = data['Параметр: Тип товара']"
      ],
      "metadata": {
        "id": "DwdbDJaJDF_T"
      },
      "execution_count": null,
      "outputs": []
    },
    {
      "cell_type": "code",
      "source": [
        "prod_type.unique()"
      ],
      "metadata": {
        "colab": {
          "base_uri": "https://localhost:8080/"
        },
        "outputId": "09b96189-b4e9-42c3-b000-9ea358f03253",
        "id": "vwpOr805FcII"
      },
      "execution_count": null,
      "outputs": [
        {
          "output_type": "execute_result",
          "data": {
            "text/plain": [
              "<StringArray>\n",
              "[                    'Корм',              'Наполнители',\n",
              "                'Переноска', 'Прочее (транспортировка)',\n",
              "             'Автокормушка',               'Автопоилка',\n",
              "                  'Пеленки',      'Фильтры для туалета',\n",
              "       'Коврик для туалета',       'Пакеты для туалета',\n",
              "                    'Лотки',                       <NA>,\n",
              "      'Совочек для туалета',                'Контейнер',\n",
              "                    'Миска',                  'Лежанка',\n",
              "               'Когтеточки',         'Закрытые туалеты',\n",
              "                  'Шампунь',         'Прочая косметика',\n",
              "              'Кондиционер',                    'Домик',\n",
              "                  'Игрушки',                'Лакомства',\n",
              "                 'Витамины',                    'Сумка',\n",
              "                 'Ошейники',                   'Шлейки',\n",
              "               'Намордники',                 'Когтерез',\n",
              "                   'Клетка',      'Пакеты для прогулки',\n",
              "                'Адресники',                  'Поводки',\n",
              "                   'Удавка',        'Прочее (амуниция)',\n",
              "                   'Вольер',      'Фурминатор/Дешеддер',\n",
              "        'Защитный воротник',              'Антибиотики',\n",
              "       'Прочее (ветаптека)',                  'Рулетки',\n",
              "                 'Ринговка',                 'Кормушка',\n",
              "                   'Прочее']\n",
              "Length: 45, dtype: string"
            ]
          },
          "metadata": {},
          "execution_count": 12
        }
      ]
    },
    {
      "cell_type": "code",
      "source": [
        "prod_type.value_counts()"
      ],
      "metadata": {
        "colab": {
          "base_uri": "https://localhost:8080/"
        },
        "outputId": "bb33277e-bd06-4f03-ab59-187fa9a57852",
        "id": "gl5gaEnMI2Z-"
      },
      "execution_count": null,
      "outputs": [
        {
          "output_type": "execute_result",
          "data": {
            "text/plain": [
              "Корм                        4756\n",
              "Лакомства                    609\n",
              "Игрушки                      602\n",
              "Наполнители                  406\n",
              "Ошейники                     270\n",
              "Шлейки                       245\n",
              "Поводки                      234\n",
              "Шампунь                      211\n",
              "Лежанка                      183\n",
              "Миска                        170\n",
              "Витамины                     146\n",
              "Прочая косметика             144\n",
              "Рулетки                      141\n",
              "Пеленки                       88\n",
              "Кондиционер                   78\n",
              "Домик                         72\n",
              "Клетка                        69\n",
              "Когтеточки                    64\n",
              "Лотки                         48\n",
              "Удавка                        45\n",
              "Фурминатор/Дешеддер           42\n",
              "Намордники                    40\n",
              "Адресники                     36\n",
              "Закрытые туалеты              33\n",
              "Переноска                     32\n",
              "Контейнер                     22\n",
              "Совочек для туалета           19\n",
              "Сумка                         12\n",
              "Прочее (ветаптека)            12\n",
              "Вольер                        11\n",
              "Автопоилка                     8\n",
              "Антибиотики                    6\n",
              "Прочее (транспортировка)       6\n",
              "Автокормушка                   5\n",
              "Фильтры для туалета            5\n",
              "Когтерез                       5\n",
              "Пакеты для прогулки            5\n",
              "Прочее (амуниция)              3\n",
              "Коврик для туалета             3\n",
              "Прочее                         3\n",
              "Защитный воротник              2\n",
              "Пакеты для туалета             2\n",
              "Кормушка                       2\n",
              "Ринговка                       1\n",
              "Name: Параметр: Тип товара, dtype: Int64"
            ]
          },
          "metadata": {},
          "execution_count": 13
        }
      ]
    },
    {
      "cell_type": "markdown",
      "source": [
        "Для обучения отбираем только те строки, где тип товара встречается не менее 140 раз. Верхняя граница отбора по количеству 1,5 раза (210 примеров)"
      ],
      "metadata": {
        "id": "qfJ1uS4-KtFa"
      }
    },
    {
      "cell_type": "markdown",
      "source": [
        "## Разделение на размеченную и неразмеченную часть"
      ],
      "metadata": {
        "id": "IjFcOqHo9Co0"
      }
    },
    {
      "cell_type": "markdown",
      "source": [
        "Метки находятся в поле 'Параметр: Тип товара'"
      ],
      "metadata": {
        "id": "nAju8YO4MKKG"
      }
    },
    {
      "cell_type": "code",
      "source": [
        "from numpy import where\n",
        "data_labeled = data.dropna()\n",
        "data_labeled[\"Параметр: Тип товара\"].value_counts()"
      ],
      "metadata": {
        "colab": {
          "base_uri": "https://localhost:8080/"
        },
        "id": "5Mzy02WE9L1d",
        "outputId": "453f43b0-b8d8-45f0-9b29-f1f39630567e"
      },
      "execution_count": null,
      "outputs": [
        {
          "output_type": "execute_result",
          "data": {
            "text/plain": [
              "Корм                        4624\n",
              "Лакомства                    553\n",
              "Игрушки                      490\n",
              "Наполнители                  368\n",
              "Шампунь                      201\n",
              "Лежанка                      178\n",
              "Миска                        161\n",
              "Ошейники                     157\n",
              "Витамины                     140\n",
              "Рулетки                      136\n",
              "Прочая косметика             133\n",
              "Шлейки                       126\n",
              "Пеленки                       87\n",
              "Кондиционер                   77\n",
              "Клетка                        68\n",
              "Домик                         61\n",
              "Когтеточки                    46\n",
              "Адресники                     36\n",
              "Лотки                         32\n",
              "Фурминатор/Дешеддер           31\n",
              "Поводки                       31\n",
              "Намордники                    30\n",
              "Закрытые туалеты              26\n",
              "Переноска                     23\n",
              "Совочек для туалета           16\n",
              "Контейнер                     15\n",
              "Прочее (ветаптека)            10\n",
              "Вольер                        10\n",
              "Автопоилка                     8\n",
              "Прочее (транспортировка)       6\n",
              "Сумка                          6\n",
              "Когтерез                       5\n",
              "Пакеты для прогулки            5\n",
              "Автокормушка                   5\n",
              "Фильтры для туалета            4\n",
              "Антибиотики                    3\n",
              "Коврик для туалета             3\n",
              "Защитный воротник              2\n",
              "Пакеты для туалета             2\n",
              "Кормушка                       2\n",
              "Ринговка                       1\n",
              "Name: Параметр: Тип товара, dtype: Int64"
            ]
          },
          "metadata": {},
          "execution_count": 14
        }
      ]
    },
    {
      "cell_type": "code",
      "source": [
        "data_not_labeled = data.where(data['Название товара'].notna() & data['Параметр: Тип товара'].isna())\n",
        "#data_not = data_not_labeled.where(data_not_labeled['Название товара'].notna())\n",
        "display(data_not_labeled)\n",
        "data_not_labeled = data_not_labeled.dropna(thresh=4)\n",
        "display(data_not_labeled)"
      ],
      "metadata": {
        "colab": {
          "base_uri": "https://localhost:8080/",
          "height": 1000
        },
        "id": "zU0kw__8QTA7",
        "outputId": "0f0782d4-3786-424c-b836-0debc32c1ee4"
      },
      "execution_count": null,
      "outputs": [
        {
          "output_type": "display_data",
          "data": {
            "text/plain": [
              "                                         Название товара  \\\n",
              "0                                                   <NA>   \n",
              "1                                                   <NA>   \n",
              "2                                                   <NA>   \n",
              "3                                                   <NA>   \n",
              "4                                                   <NA>   \n",
              "...                                                  ...   \n",
              "12256  Родные корма - Сухой корм для взрослых собак с...   \n",
              "12257  Родные корма - Сухой корм для взрослых собак с...   \n",
              "12258  Родные корма - Сухой корм для взрослых стерили...   \n",
              "12259  Родные корма - Сухой корм для взрослых стерили...   \n",
              "12260    Родные корма - Сухой корм для щенков - 16,38 кг   \n",
              "\n",
              "                                         Полное описание  \\\n",
              "0                                                   <NA>   \n",
              "1                                                   <NA>   \n",
              "2                                                   <NA>   \n",
              "3                                                   <NA>   \n",
              "4                                                   <NA>   \n",
              "...                                                  ...   \n",
              "12256  <div><strong>Сухой корм для собак \"Родные корм...   \n",
              "12257  <div><strong>Сухой корм для собак \"Родные корм...   \n",
              "12258  <div><strong>Сухой корм для кошек \"Родные корм...   \n",
              "12259  <div><strong>Сухой корм для кошек \"Родные корм...   \n",
              "12260  <p style=\"font-weight: 400;\"><strong>Сухой кор...   \n",
              "\n",
              "                                             Изображения Артикул  \\\n",
              "0                                                   <NA>    <NA>   \n",
              "1                                                   <NA>    <NA>   \n",
              "2                                                   <NA>    <NA>   \n",
              "3                                                   <NA>    <NA>   \n",
              "4                                                   <NA>    <NA>   \n",
              "...                                                  ...     ...   \n",
              "12256  https://static.insales-cdn.com/images/products...   49315   \n",
              "12257  https://static.insales-cdn.com/images/products...   34301   \n",
              "12258  https://static.insales-cdn.com/images/products...   34280   \n",
              "12259  https://static.insales-cdn.com/images/products...   34285   \n",
              "12260  https://static.insales-cdn.com/images/products...   34296   \n",
              "\n",
              "      Параметр: Тип товара  \n",
              "0                     <NA>  \n",
              "1                     <NA>  \n",
              "2                     <NA>  \n",
              "3                     <NA>  \n",
              "4                     <NA>  \n",
              "...                    ...  \n",
              "12256                 <NA>  \n",
              "12257                 <NA>  \n",
              "12258                 <NA>  \n",
              "12259                 <NA>  \n",
              "12260                 <NA>  \n",
              "\n",
              "[12261 rows x 5 columns]"
            ],
            "text/html": [
              "\n",
              "  <div id=\"df-a63fcc7d-afb5-472a-aba0-fc1f30c66d66\">\n",
              "    <div class=\"colab-df-container\">\n",
              "      <div>\n",
              "<style scoped>\n",
              "    .dataframe tbody tr th:only-of-type {\n",
              "        vertical-align: middle;\n",
              "    }\n",
              "\n",
              "    .dataframe tbody tr th {\n",
              "        vertical-align: top;\n",
              "    }\n",
              "\n",
              "    .dataframe thead th {\n",
              "        text-align: right;\n",
              "    }\n",
              "</style>\n",
              "<table border=\"1\" class=\"dataframe\">\n",
              "  <thead>\n",
              "    <tr style=\"text-align: right;\">\n",
              "      <th></th>\n",
              "      <th>Название товара</th>\n",
              "      <th>Полное описание</th>\n",
              "      <th>Изображения</th>\n",
              "      <th>Артикул</th>\n",
              "      <th>Параметр: Тип товара</th>\n",
              "    </tr>\n",
              "  </thead>\n",
              "  <tbody>\n",
              "    <tr>\n",
              "      <th>0</th>\n",
              "      <td>&lt;NA&gt;</td>\n",
              "      <td>&lt;NA&gt;</td>\n",
              "      <td>&lt;NA&gt;</td>\n",
              "      <td>&lt;NA&gt;</td>\n",
              "      <td>&lt;NA&gt;</td>\n",
              "    </tr>\n",
              "    <tr>\n",
              "      <th>1</th>\n",
              "      <td>&lt;NA&gt;</td>\n",
              "      <td>&lt;NA&gt;</td>\n",
              "      <td>&lt;NA&gt;</td>\n",
              "      <td>&lt;NA&gt;</td>\n",
              "      <td>&lt;NA&gt;</td>\n",
              "    </tr>\n",
              "    <tr>\n",
              "      <th>2</th>\n",
              "      <td>&lt;NA&gt;</td>\n",
              "      <td>&lt;NA&gt;</td>\n",
              "      <td>&lt;NA&gt;</td>\n",
              "      <td>&lt;NA&gt;</td>\n",
              "      <td>&lt;NA&gt;</td>\n",
              "    </tr>\n",
              "    <tr>\n",
              "      <th>3</th>\n",
              "      <td>&lt;NA&gt;</td>\n",
              "      <td>&lt;NA&gt;</td>\n",
              "      <td>&lt;NA&gt;</td>\n",
              "      <td>&lt;NA&gt;</td>\n",
              "      <td>&lt;NA&gt;</td>\n",
              "    </tr>\n",
              "    <tr>\n",
              "      <th>4</th>\n",
              "      <td>&lt;NA&gt;</td>\n",
              "      <td>&lt;NA&gt;</td>\n",
              "      <td>&lt;NA&gt;</td>\n",
              "      <td>&lt;NA&gt;</td>\n",
              "      <td>&lt;NA&gt;</td>\n",
              "    </tr>\n",
              "    <tr>\n",
              "      <th>...</th>\n",
              "      <td>...</td>\n",
              "      <td>...</td>\n",
              "      <td>...</td>\n",
              "      <td>...</td>\n",
              "      <td>...</td>\n",
              "    </tr>\n",
              "    <tr>\n",
              "      <th>12256</th>\n",
              "      <td>Родные корма - Сухой корм для взрослых собак с...</td>\n",
              "      <td>&lt;div&gt;&lt;strong&gt;Сухой корм для собак \"Родные корм...</td>\n",
              "      <td>https://static.insales-cdn.com/images/products...</td>\n",
              "      <td>49315</td>\n",
              "      <td>&lt;NA&gt;</td>\n",
              "    </tr>\n",
              "    <tr>\n",
              "      <th>12257</th>\n",
              "      <td>Родные корма - Сухой корм для взрослых собак с...</td>\n",
              "      <td>&lt;div&gt;&lt;strong&gt;Сухой корм для собак \"Родные корм...</td>\n",
              "      <td>https://static.insales-cdn.com/images/products...</td>\n",
              "      <td>34301</td>\n",
              "      <td>&lt;NA&gt;</td>\n",
              "    </tr>\n",
              "    <tr>\n",
              "      <th>12258</th>\n",
              "      <td>Родные корма - Сухой корм для взрослых стерили...</td>\n",
              "      <td>&lt;div&gt;&lt;strong&gt;Сухой корм для кошек \"Родные корм...</td>\n",
              "      <td>https://static.insales-cdn.com/images/products...</td>\n",
              "      <td>34280</td>\n",
              "      <td>&lt;NA&gt;</td>\n",
              "    </tr>\n",
              "    <tr>\n",
              "      <th>12259</th>\n",
              "      <td>Родные корма - Сухой корм для взрослых стерили...</td>\n",
              "      <td>&lt;div&gt;&lt;strong&gt;Сухой корм для кошек \"Родные корм...</td>\n",
              "      <td>https://static.insales-cdn.com/images/products...</td>\n",
              "      <td>34285</td>\n",
              "      <td>&lt;NA&gt;</td>\n",
              "    </tr>\n",
              "    <tr>\n",
              "      <th>12260</th>\n",
              "      <td>Родные корма - Сухой корм для щенков - 16,38 кг</td>\n",
              "      <td>&lt;p style=\"font-weight: 400;\"&gt;&lt;strong&gt;Сухой кор...</td>\n",
              "      <td>https://static.insales-cdn.com/images/products...</td>\n",
              "      <td>34296</td>\n",
              "      <td>&lt;NA&gt;</td>\n",
              "    </tr>\n",
              "  </tbody>\n",
              "</table>\n",
              "<p>12261 rows × 5 columns</p>\n",
              "</div>\n",
              "      <button class=\"colab-df-convert\" onclick=\"convertToInteractive('df-a63fcc7d-afb5-472a-aba0-fc1f30c66d66')\"\n",
              "              title=\"Convert this dataframe to an interactive table.\"\n",
              "              style=\"display:none;\">\n",
              "        \n",
              "  <svg xmlns=\"http://www.w3.org/2000/svg\" height=\"24px\"viewBox=\"0 0 24 24\"\n",
              "       width=\"24px\">\n",
              "    <path d=\"M0 0h24v24H0V0z\" fill=\"none\"/>\n",
              "    <path d=\"M18.56 5.44l.94 2.06.94-2.06 2.06-.94-2.06-.94-.94-2.06-.94 2.06-2.06.94zm-11 1L8.5 8.5l.94-2.06 2.06-.94-2.06-.94L8.5 2.5l-.94 2.06-2.06.94zm10 10l.94 2.06.94-2.06 2.06-.94-2.06-.94-.94-2.06-.94 2.06-2.06.94z\"/><path d=\"M17.41 7.96l-1.37-1.37c-.4-.4-.92-.59-1.43-.59-.52 0-1.04.2-1.43.59L10.3 9.45l-7.72 7.72c-.78.78-.78 2.05 0 2.83L4 21.41c.39.39.9.59 1.41.59.51 0 1.02-.2 1.41-.59l7.78-7.78 2.81-2.81c.8-.78.8-2.07 0-2.86zM5.41 20L4 18.59l7.72-7.72 1.47 1.35L5.41 20z\"/>\n",
              "  </svg>\n",
              "      </button>\n",
              "      \n",
              "  <style>\n",
              "    .colab-df-container {\n",
              "      display:flex;\n",
              "      flex-wrap:wrap;\n",
              "      gap: 12px;\n",
              "    }\n",
              "\n",
              "    .colab-df-convert {\n",
              "      background-color: #E8F0FE;\n",
              "      border: none;\n",
              "      border-radius: 50%;\n",
              "      cursor: pointer;\n",
              "      display: none;\n",
              "      fill: #1967D2;\n",
              "      height: 32px;\n",
              "      padding: 0 0 0 0;\n",
              "      width: 32px;\n",
              "    }\n",
              "\n",
              "    .colab-df-convert:hover {\n",
              "      background-color: #E2EBFA;\n",
              "      box-shadow: 0px 1px 2px rgba(60, 64, 67, 0.3), 0px 1px 3px 1px rgba(60, 64, 67, 0.15);\n",
              "      fill: #174EA6;\n",
              "    }\n",
              "\n",
              "    [theme=dark] .colab-df-convert {\n",
              "      background-color: #3B4455;\n",
              "      fill: #D2E3FC;\n",
              "    }\n",
              "\n",
              "    [theme=dark] .colab-df-convert:hover {\n",
              "      background-color: #434B5C;\n",
              "      box-shadow: 0px 1px 3px 1px rgba(0, 0, 0, 0.15);\n",
              "      filter: drop-shadow(0px 1px 2px rgba(0, 0, 0, 0.3));\n",
              "      fill: #FFFFFF;\n",
              "    }\n",
              "  </style>\n",
              "\n",
              "      <script>\n",
              "        const buttonEl =\n",
              "          document.querySelector('#df-a63fcc7d-afb5-472a-aba0-fc1f30c66d66 button.colab-df-convert');\n",
              "        buttonEl.style.display =\n",
              "          google.colab.kernel.accessAllowed ? 'block' : 'none';\n",
              "\n",
              "        async function convertToInteractive(key) {\n",
              "          const element = document.querySelector('#df-a63fcc7d-afb5-472a-aba0-fc1f30c66d66');\n",
              "          const dataTable =\n",
              "            await google.colab.kernel.invokeFunction('convertToInteractive',\n",
              "                                                     [key], {});\n",
              "          if (!dataTable) return;\n",
              "\n",
              "          const docLinkHtml = 'Like what you see? Visit the ' +\n",
              "            '<a target=\"_blank\" href=https://colab.research.google.com/notebooks/data_table.ipynb>data table notebook</a>'\n",
              "            + ' to learn more about interactive tables.';\n",
              "          element.innerHTML = '';\n",
              "          dataTable['output_type'] = 'display_data';\n",
              "          await google.colab.output.renderOutput(dataTable, element);\n",
              "          const docLink = document.createElement('div');\n",
              "          docLink.innerHTML = docLinkHtml;\n",
              "          element.appendChild(docLink);\n",
              "        }\n",
              "      </script>\n",
              "    </div>\n",
              "  </div>\n",
              "  "
            ]
          },
          "metadata": {}
        },
        {
          "output_type": "display_data",
          "data": {
            "text/plain": [
              "                                         Название товара  \\\n",
              "304    Stefanplast - Устройство для сбора фекалий, Qu...   \n",
              "369    Рукавица для удаления шерсти животных, Cat Fut...   \n",
              "1050   Астрафарм - КонтрСекс Neo Капли для котов и ко...   \n",
              "1051   Астрафарм - КонтрСекс Neo Капли для кошек и су...   \n",
              "1052   Астрафарм - Секс барьер капли для кошечек, 2 м...   \n",
              "...                                                  ...   \n",
              "12256  Родные корма - Сухой корм для взрослых собак с...   \n",
              "12257  Родные корма - Сухой корм для взрослых собак с...   \n",
              "12258  Родные корма - Сухой корм для взрослых стерили...   \n",
              "12259  Родные корма - Сухой корм для взрослых стерили...   \n",
              "12260    Родные корма - Сухой корм для щенков - 16,38 кг   \n",
              "\n",
              "                                         Полное описание  \\\n",
              "304    <p><span>Всем&nbsp;&nbsp;известно,&nbsp;&nbsp;...   \n",
              "369    <p><strong>Pet Head</strong><span>&nbsp;&ndash...   \n",
              "1050   <div>Препараты КонтрСекс Neo предназначены для...   \n",
              "1051   <div>Препараты КонтрСекс Neo предназначены для...   \n",
              "1052   <p><span>Бигормональное контрацептивное средст...   \n",
              "...                                                  ...   \n",
              "12256  <div><strong>Сухой корм для собак \"Родные корм...   \n",
              "12257  <div><strong>Сухой корм для собак \"Родные корм...   \n",
              "12258  <div><strong>Сухой корм для кошек \"Родные корм...   \n",
              "12259  <div><strong>Сухой корм для кошек \"Родные корм...   \n",
              "12260  <p style=\"font-weight: 400;\"><strong>Сухой кор...   \n",
              "\n",
              "                                             Изображения Артикул  \\\n",
              "304    https://static.insales-cdn.com/images/products...   12973   \n",
              "369    https://static.insales-cdn.com/images/products...   10726   \n",
              "1050   https://static.insales-cdn.com/images/products...   19214   \n",
              "1051   https://static.insales-cdn.com/images/products...   19215   \n",
              "1052   https://static.insales-cdn.com/images/products...   26126   \n",
              "...                                                  ...     ...   \n",
              "12256  https://static.insales-cdn.com/images/products...   49315   \n",
              "12257  https://static.insales-cdn.com/images/products...   34301   \n",
              "12258  https://static.insales-cdn.com/images/products...   34280   \n",
              "12259  https://static.insales-cdn.com/images/products...   34285   \n",
              "12260  https://static.insales-cdn.com/images/products...   34296   \n",
              "\n",
              "      Параметр: Тип товара  \n",
              "304                   <NA>  \n",
              "369                   <NA>  \n",
              "1050                  <NA>  \n",
              "1051                  <NA>  \n",
              "1052                  <NA>  \n",
              "...                    ...  \n",
              "12256                 <NA>  \n",
              "12257                 <NA>  \n",
              "12258                 <NA>  \n",
              "12259                 <NA>  \n",
              "12260                 <NA>  \n",
              "\n",
              "[1903 rows x 5 columns]"
            ],
            "text/html": [
              "\n",
              "  <div id=\"df-f2a51fe7-e1d8-40ee-9733-01d181b4216a\">\n",
              "    <div class=\"colab-df-container\">\n",
              "      <div>\n",
              "<style scoped>\n",
              "    .dataframe tbody tr th:only-of-type {\n",
              "        vertical-align: middle;\n",
              "    }\n",
              "\n",
              "    .dataframe tbody tr th {\n",
              "        vertical-align: top;\n",
              "    }\n",
              "\n",
              "    .dataframe thead th {\n",
              "        text-align: right;\n",
              "    }\n",
              "</style>\n",
              "<table border=\"1\" class=\"dataframe\">\n",
              "  <thead>\n",
              "    <tr style=\"text-align: right;\">\n",
              "      <th></th>\n",
              "      <th>Название товара</th>\n",
              "      <th>Полное описание</th>\n",
              "      <th>Изображения</th>\n",
              "      <th>Артикул</th>\n",
              "      <th>Параметр: Тип товара</th>\n",
              "    </tr>\n",
              "  </thead>\n",
              "  <tbody>\n",
              "    <tr>\n",
              "      <th>304</th>\n",
              "      <td>Stefanplast - Устройство для сбора фекалий, Qu...</td>\n",
              "      <td>&lt;p&gt;&lt;span&gt;Всем&amp;nbsp;&amp;nbsp;известно,&amp;nbsp;&amp;nbsp;...</td>\n",
              "      <td>https://static.insales-cdn.com/images/products...</td>\n",
              "      <td>12973</td>\n",
              "      <td>&lt;NA&gt;</td>\n",
              "    </tr>\n",
              "    <tr>\n",
              "      <th>369</th>\n",
              "      <td>Рукавица для удаления шерсти животных, Cat Fut...</td>\n",
              "      <td>&lt;p&gt;&lt;strong&gt;Pet Head&lt;/strong&gt;&lt;span&gt;&amp;nbsp;&amp;ndash...</td>\n",
              "      <td>https://static.insales-cdn.com/images/products...</td>\n",
              "      <td>10726</td>\n",
              "      <td>&lt;NA&gt;</td>\n",
              "    </tr>\n",
              "    <tr>\n",
              "      <th>1050</th>\n",
              "      <td>Астрафарм - КонтрСекс Neo Капли для котов и ко...</td>\n",
              "      <td>&lt;div&gt;Препараты КонтрСекс Neo предназначены для...</td>\n",
              "      <td>https://static.insales-cdn.com/images/products...</td>\n",
              "      <td>19214</td>\n",
              "      <td>&lt;NA&gt;</td>\n",
              "    </tr>\n",
              "    <tr>\n",
              "      <th>1051</th>\n",
              "      <td>Астрафарм - КонтрСекс Neo Капли для кошек и су...</td>\n",
              "      <td>&lt;div&gt;Препараты КонтрСекс Neo предназначены для...</td>\n",
              "      <td>https://static.insales-cdn.com/images/products...</td>\n",
              "      <td>19215</td>\n",
              "      <td>&lt;NA&gt;</td>\n",
              "    </tr>\n",
              "    <tr>\n",
              "      <th>1052</th>\n",
              "      <td>Астрафарм - Секс барьер капли для кошечек, 2 м...</td>\n",
              "      <td>&lt;p&gt;&lt;span&gt;Бигормональное контрацептивное средст...</td>\n",
              "      <td>https://static.insales-cdn.com/images/products...</td>\n",
              "      <td>26126</td>\n",
              "      <td>&lt;NA&gt;</td>\n",
              "    </tr>\n",
              "    <tr>\n",
              "      <th>...</th>\n",
              "      <td>...</td>\n",
              "      <td>...</td>\n",
              "      <td>...</td>\n",
              "      <td>...</td>\n",
              "      <td>...</td>\n",
              "    </tr>\n",
              "    <tr>\n",
              "      <th>12256</th>\n",
              "      <td>Родные корма - Сухой корм для взрослых собак с...</td>\n",
              "      <td>&lt;div&gt;&lt;strong&gt;Сухой корм для собак \"Родные корм...</td>\n",
              "      <td>https://static.insales-cdn.com/images/products...</td>\n",
              "      <td>49315</td>\n",
              "      <td>&lt;NA&gt;</td>\n",
              "    </tr>\n",
              "    <tr>\n",
              "      <th>12257</th>\n",
              "      <td>Родные корма - Сухой корм для взрослых собак с...</td>\n",
              "      <td>&lt;div&gt;&lt;strong&gt;Сухой корм для собак \"Родные корм...</td>\n",
              "      <td>https://static.insales-cdn.com/images/products...</td>\n",
              "      <td>34301</td>\n",
              "      <td>&lt;NA&gt;</td>\n",
              "    </tr>\n",
              "    <tr>\n",
              "      <th>12258</th>\n",
              "      <td>Родные корма - Сухой корм для взрослых стерили...</td>\n",
              "      <td>&lt;div&gt;&lt;strong&gt;Сухой корм для кошек \"Родные корм...</td>\n",
              "      <td>https://static.insales-cdn.com/images/products...</td>\n",
              "      <td>34280</td>\n",
              "      <td>&lt;NA&gt;</td>\n",
              "    </tr>\n",
              "    <tr>\n",
              "      <th>12259</th>\n",
              "      <td>Родные корма - Сухой корм для взрослых стерили...</td>\n",
              "      <td>&lt;div&gt;&lt;strong&gt;Сухой корм для кошек \"Родные корм...</td>\n",
              "      <td>https://static.insales-cdn.com/images/products...</td>\n",
              "      <td>34285</td>\n",
              "      <td>&lt;NA&gt;</td>\n",
              "    </tr>\n",
              "    <tr>\n",
              "      <th>12260</th>\n",
              "      <td>Родные корма - Сухой корм для щенков - 16,38 кг</td>\n",
              "      <td>&lt;p style=\"font-weight: 400;\"&gt;&lt;strong&gt;Сухой кор...</td>\n",
              "      <td>https://static.insales-cdn.com/images/products...</td>\n",
              "      <td>34296</td>\n",
              "      <td>&lt;NA&gt;</td>\n",
              "    </tr>\n",
              "  </tbody>\n",
              "</table>\n",
              "<p>1903 rows × 5 columns</p>\n",
              "</div>\n",
              "      <button class=\"colab-df-convert\" onclick=\"convertToInteractive('df-f2a51fe7-e1d8-40ee-9733-01d181b4216a')\"\n",
              "              title=\"Convert this dataframe to an interactive table.\"\n",
              "              style=\"display:none;\">\n",
              "        \n",
              "  <svg xmlns=\"http://www.w3.org/2000/svg\" height=\"24px\"viewBox=\"0 0 24 24\"\n",
              "       width=\"24px\">\n",
              "    <path d=\"M0 0h24v24H0V0z\" fill=\"none\"/>\n",
              "    <path d=\"M18.56 5.44l.94 2.06.94-2.06 2.06-.94-2.06-.94-.94-2.06-.94 2.06-2.06.94zm-11 1L8.5 8.5l.94-2.06 2.06-.94-2.06-.94L8.5 2.5l-.94 2.06-2.06.94zm10 10l.94 2.06.94-2.06 2.06-.94-2.06-.94-.94-2.06-.94 2.06-2.06.94z\"/><path d=\"M17.41 7.96l-1.37-1.37c-.4-.4-.92-.59-1.43-.59-.52 0-1.04.2-1.43.59L10.3 9.45l-7.72 7.72c-.78.78-.78 2.05 0 2.83L4 21.41c.39.39.9.59 1.41.59.51 0 1.02-.2 1.41-.59l7.78-7.78 2.81-2.81c.8-.78.8-2.07 0-2.86zM5.41 20L4 18.59l7.72-7.72 1.47 1.35L5.41 20z\"/>\n",
              "  </svg>\n",
              "      </button>\n",
              "      \n",
              "  <style>\n",
              "    .colab-df-container {\n",
              "      display:flex;\n",
              "      flex-wrap:wrap;\n",
              "      gap: 12px;\n",
              "    }\n",
              "\n",
              "    .colab-df-convert {\n",
              "      background-color: #E8F0FE;\n",
              "      border: none;\n",
              "      border-radius: 50%;\n",
              "      cursor: pointer;\n",
              "      display: none;\n",
              "      fill: #1967D2;\n",
              "      height: 32px;\n",
              "      padding: 0 0 0 0;\n",
              "      width: 32px;\n",
              "    }\n",
              "\n",
              "    .colab-df-convert:hover {\n",
              "      background-color: #E2EBFA;\n",
              "      box-shadow: 0px 1px 2px rgba(60, 64, 67, 0.3), 0px 1px 3px 1px rgba(60, 64, 67, 0.15);\n",
              "      fill: #174EA6;\n",
              "    }\n",
              "\n",
              "    [theme=dark] .colab-df-convert {\n",
              "      background-color: #3B4455;\n",
              "      fill: #D2E3FC;\n",
              "    }\n",
              "\n",
              "    [theme=dark] .colab-df-convert:hover {\n",
              "      background-color: #434B5C;\n",
              "      box-shadow: 0px 1px 3px 1px rgba(0, 0, 0, 0.15);\n",
              "      filter: drop-shadow(0px 1px 2px rgba(0, 0, 0, 0.3));\n",
              "      fill: #FFFFFF;\n",
              "    }\n",
              "  </style>\n",
              "\n",
              "      <script>\n",
              "        const buttonEl =\n",
              "          document.querySelector('#df-f2a51fe7-e1d8-40ee-9733-01d181b4216a button.colab-df-convert');\n",
              "        buttonEl.style.display =\n",
              "          google.colab.kernel.accessAllowed ? 'block' : 'none';\n",
              "\n",
              "        async function convertToInteractive(key) {\n",
              "          const element = document.querySelector('#df-f2a51fe7-e1d8-40ee-9733-01d181b4216a');\n",
              "          const dataTable =\n",
              "            await google.colab.kernel.invokeFunction('convertToInteractive',\n",
              "                                                     [key], {});\n",
              "          if (!dataTable) return;\n",
              "\n",
              "          const docLinkHtml = 'Like what you see? Visit the ' +\n",
              "            '<a target=\"_blank\" href=https://colab.research.google.com/notebooks/data_table.ipynb>data table notebook</a>'\n",
              "            + ' to learn more about interactive tables.';\n",
              "          element.innerHTML = '';\n",
              "          dataTable['output_type'] = 'display_data';\n",
              "          await google.colab.output.renderOutput(dataTable, element);\n",
              "          const docLink = document.createElement('div');\n",
              "          docLink.innerHTML = docLinkHtml;\n",
              "          element.appendChild(docLink);\n",
              "        }\n",
              "      </script>\n",
              "    </div>\n",
              "  </div>\n",
              "  "
            ]
          },
          "metadata": {}
        }
      ]
    },
    {
      "cell_type": "markdown",
      "source": [
        "## Формирование датасета"
      ],
      "metadata": {
        "id": "WCh5-nDG7gb6"
      }
    },
    {
      "cell_type": "markdown",
      "source": [
        "### Обработка текстового поля"
      ],
      "metadata": {
        "id": "_NVRyyyB8inI"
      }
    },
    {
      "cell_type": "code",
      "source": [
        "def clean_string(inp_str: str):\n",
        "  rx = re.compile('[^а-яА-Я]+')\n",
        "  result = rx.sub(' ', inp_str).strip().lower()\n",
        "  return result"
      ],
      "metadata": {
        "id": "oK3tmCza8gjp"
      },
      "execution_count": null,
      "outputs": []
    },
    {
      "cell_type": "code",
      "source": [
        "clean_string(data_labeled.iloc[5,1])"
      ],
      "metadata": {
        "colab": {
          "base_uri": "https://localhost:8080/",
          "height": 140
        },
        "id": "t-gpTb-8mlLS",
        "outputId": "bcf5f1ba-2102-495e-d100-92069baf5188"
      },
      "execution_count": null,
      "outputs": [
        {
          "output_type": "execute_result",
          "data": {
            "text/plain": [
              "'формула контроль веса специально разработана для стерилизованных и кастрированных животных а также склонных к полноте низкокалорийный корм поддерживает идеальную форму у кастрированных и стерилизованных кошек более низкая потребность в калориях низкое содержание жира в корме способствует снижению массы тела без сокращения нормы кормления снижение уровня активности кошки с возрастом может способствовать набору лишнего веса эта формула удобна во всех случаях когда необходимо ограничить количество калорий в рационе идеальная форма система вывода шерсти из жкт низкокалорийный поддерживает идеальную форму рн контроль мочи снижает риск образования камней в мочевыделительной системе клетчатка обеспечивает ощущение сытости и улучшает пищеварение состав ингредиенты свежая курица мука из мяса курицы рис гороховый протеин коричневый рис специально обработанные ядра ячменя и овса мякоть свеклы клетчатка гороха гидролизат куриной печени куриный жир сохраненный смесью натуральных токоферолов витамин е сушеная мякоть томата цельное семя льна лецитин калия хлорид холина хлорид соль кальция карбонат кальция пропионат натрия бисульфат таурин метионин лизин экстракт дрожжей железа сульфат аскорбиновая кислота витамин с экстракт цикория цинка оксид натрия селенит альфа токоферол ацетат витамин е глюкозамина сульфат никотиновая кислота экстракт юкки шидигера хондроитина сульфат цистин кальция иодат марганца оксид карнитин кальция пантотенат тиамина мононитрат рибофлавин пиридоксина гидрохлорид витамин а холекальциферол витамин д биотин сушеная мята сушеная петрушка экстракт зеленого чая цинка протеинат витамин в кобальта карбонат фолиевая кислота марганца протеинат меди протеинат гарантированный анализ сырой протеин мин сырой жир мин сырая клетчатка макс влага макс зола макс кальций мин фосфор мин марганец макс таурин мг кг витамин а мин ме кг витамин д мин ме кг витамин е мин ме кг'"
            ],
            "application/vnd.google.colaboratory.intrinsic+json": {
              "type": "string"
            }
          },
          "metadata": {},
          "execution_count": 17
        }
      ]
    },
    {
      "cell_type": "markdown",
      "source": [
        "### Обработка лейблов"
      ],
      "metadata": {
        "id": "zbbyopRdwZqG"
      }
    },
    {
      "cell_type": "code",
      "source": [
        "cats = dict(data_labeled[\"Параметр: Тип товара\"].value_counts())"
      ],
      "metadata": {
        "id": "6DkoVqenyZ4R"
      },
      "execution_count": null,
      "outputs": []
    },
    {
      "cell_type": "code",
      "source": [
        "cats"
      ],
      "metadata": {
        "colab": {
          "base_uri": "https://localhost:8080/"
        },
        "id": "RSDZtKqhz6ju",
        "outputId": "93f67ba8-4c5d-4f9a-bb78-e4d4ee6d052a"
      },
      "execution_count": null,
      "outputs": [
        {
          "output_type": "execute_result",
          "data": {
            "text/plain": [
              "{'Автокормушка': 5,\n",
              " 'Автопоилка': 8,\n",
              " 'Адресники': 36,\n",
              " 'Антибиотики': 3,\n",
              " 'Витамины': 140,\n",
              " 'Вольер': 10,\n",
              " 'Домик': 61,\n",
              " 'Закрытые туалеты': 26,\n",
              " 'Защитный воротник': 2,\n",
              " 'Игрушки': 490,\n",
              " 'Клетка': 68,\n",
              " 'Коврик для туалета': 3,\n",
              " 'Когтерез': 5,\n",
              " 'Когтеточки': 46,\n",
              " 'Кондиционер': 77,\n",
              " 'Контейнер': 15,\n",
              " 'Корм': 4624,\n",
              " 'Кормушка': 2,\n",
              " 'Лакомства': 553,\n",
              " 'Лежанка': 178,\n",
              " 'Лотки': 32,\n",
              " 'Миска': 161,\n",
              " 'Намордники': 30,\n",
              " 'Наполнители': 368,\n",
              " 'Ошейники': 157,\n",
              " 'Пакеты для прогулки': 5,\n",
              " 'Пакеты для туалета': 2,\n",
              " 'Пеленки': 87,\n",
              " 'Переноска': 23,\n",
              " 'Поводки': 31,\n",
              " 'Прочая косметика': 133,\n",
              " 'Прочее (ветаптека)': 10,\n",
              " 'Прочее (транспортировка)': 6,\n",
              " 'Ринговка': 1,\n",
              " 'Рулетки': 136,\n",
              " 'Совочек для туалета': 16,\n",
              " 'Сумка': 6,\n",
              " 'Фильтры для туалета': 4,\n",
              " 'Фурминатор/Дешеддер': 31,\n",
              " 'Шампунь': 201,\n",
              " 'Шлейки': 126}"
            ]
          },
          "metadata": {},
          "execution_count": 19
        }
      ]
    },
    {
      "cell_type": "code",
      "source": [
        "def get_categories(cats: dict, min_count: int):\n",
        "  categories = []\n",
        "  for cat, count in cats.items():\n",
        "    if count > min_count:\n",
        "      categories.append(cat)\n",
        "  return categories"
      ],
      "metadata": {
        "id": "rusQjNPby0vT"
      },
      "execution_count": null,
      "outputs": []
    },
    {
      "cell_type": "code",
      "source": [
        "get_categories(cats, 125)"
      ],
      "metadata": {
        "colab": {
          "base_uri": "https://localhost:8080/"
        },
        "id": "LX_16LKVzv4r",
        "outputId": "54945691-2121-4b8d-d7b9-c58af0e49823"
      },
      "execution_count": null,
      "outputs": [
        {
          "output_type": "execute_result",
          "data": {
            "text/plain": [
              "['Корм',\n",
              " 'Лакомства',\n",
              " 'Игрушки',\n",
              " 'Наполнители',\n",
              " 'Шампунь',\n",
              " 'Лежанка',\n",
              " 'Миска',\n",
              " 'Ошейники',\n",
              " 'Витамины',\n",
              " 'Рулетки',\n",
              " 'Прочая косметика',\n",
              " 'Шлейки']"
            ]
          },
          "metadata": {},
          "execution_count": 21
        }
      ]
    },
    {
      "cell_type": "code",
      "source": [
        "def make_category_dicts(categories):\n",
        "  cat_nums = dict()\n",
        "  cat_keys = dict()\n",
        "  i = 0\n",
        "  for label in categories:\n",
        "    cat_keys[label] = i\n",
        "    cat_nums[i] = label\n",
        "    i += 1\n",
        "  return cat_nums, cat_keys"
      ],
      "metadata": {
        "id": "g4QizZh1wi9G"
      },
      "execution_count": null,
      "outputs": []
    },
    {
      "cell_type": "markdown",
      "source": [
        "### Обработка картинки"
      ],
      "metadata": {
        "id": "WNBB1_bJ8tYL"
      }
    },
    {
      "cell_type": "code",
      "source": [
        "def load_img(img_url: str, size:tuple=(300, 300)):\n",
        "  response = requests.get(img_url)\n",
        "  img = Image.open(BytesIO(response.content))\n",
        "  return np.asarray(img.resize(size))"
      ],
      "metadata": {
        "id": "S77xqSTP8zK7"
      },
      "execution_count": null,
      "outputs": []
    },
    {
      "cell_type": "code",
      "source": [
        "def array_img(pic, size:tuple=(300, 300)):\n",
        "#  await asyncio.sleep(random.random())\n",
        "  img = Image.open(pic)\n",
        "  return np.asarray(img.resize(size))"
      ],
      "metadata": {
        "id": "EmLxrVQidGb5"
      },
      "execution_count": null,
      "outputs": []
    },
    {
      "cell_type": "code",
      "source": [
        "img_url = data_labeled.iloc[4,2]\n",
        "size = (300, 300)\n",
        "plt.imshow(load_img(img_url, size))"
      ],
      "metadata": {
        "colab": {
          "base_uri": "https://localhost:8080/",
          "height": 286
        },
        "id": "GZlXW8Dws_dr",
        "outputId": "55edfab6-ee5e-4ef1-a12b-777cb4f9ff61"
      },
      "execution_count": null,
      "outputs": [
        {
          "output_type": "execute_result",
          "data": {
            "text/plain": [
              "<matplotlib.image.AxesImage at 0x7f94e135cd90>"
            ]
          },
          "metadata": {},
          "execution_count": 27
        },
        {
          "output_type": "display_data",
          "data": {
            "text/plain": [
              "<Figure size 432x288 with 1 Axes>"
            ],
            "image/png": "[encoded data removed]"
          },
          "metadata": {
            "needs_background": "light"
          }
        }
      ]
    },
    {
      "cell_type": "markdown",
      "source": [
        "### Датасет"
      ],
      "metadata": {
        "id": "-PTu002480Jb"
      }
    },
    {
      "cell_type": "code",
      "source": [
        "loading = False"
      ],
      "metadata": {
        "id": "ZU-SbZ_FmlDj"
      },
      "execution_count": null,
      "outputs": []
    },
    {
      "cell_type": "code",
      "source": [
        "pic_dir = \"/content/drive/MyDrive/blackcatshop/\""
      ],
      "metadata": {
        "id": "MXLN3vgKCp0e"
      },
      "execution_count": null,
      "outputs": []
    },
    {
      "cell_type": "code",
      "source": [
        "# размер к которому приводятся картинки товаров\n",
        "img_size = (300, 300)\n",
        "# сколько слов берётся от описания товара\n",
        "text_size = 40\n",
        "# порог количества товаров в категории для вхождения в датасет\n",
        "min_count = 125\n",
        "max_count = round(min_count * 1.5)\n",
        "# Номера колонок с данными в файле\n",
        "description_column = 1\n",
        "img_column = 2\n",
        "num_column = 3\n",
        "category_column = 4\n",
        "# Количество отобранных слов из описания\n",
        "desc_len = 40\n",
        "VOCAB_SIZE = 5000"
      ],
      "metadata": {
        "id": "e7JGko_L4_21"
      },
      "execution_count": null,
      "outputs": []
    },
    {
      "cell_type": "code",
      "source": [
        "max_count"
      ],
      "metadata": {
        "colab": {
          "base_uri": "https://localhost:8080/"
        },
        "id": "5HDmJOk7Qo3q",
        "outputId": "52d3d935-c32f-497c-eb03-32b66f25e44d"
      },
      "execution_count": null,
      "outputs": [
        {
          "output_type": "execute_result",
          "data": {
            "text/plain": [
              "188"
            ]
          },
          "metadata": {},
          "execution_count": 31
        }
      ]
    },
    {
      "cell_type": "code",
      "source": [
        "label_dict, cats_dict = make_category_dicts(get_categories(cats, min_count))"
      ],
      "metadata": {
        "id": "mVEEXQcrNkLL"
      },
      "execution_count": null,
      "outputs": []
    },
    {
      "cell_type": "code",
      "source": [
        "cats_dict"
      ],
      "metadata": {
        "colab": {
          "base_uri": "https://localhost:8080/"
        },
        "id": "sGvOUicLdLy5",
        "outputId": "59da2b6c-b5e4-4bcf-a144-31b4a4a34800"
      },
      "execution_count": null,
      "outputs": [
        {
          "output_type": "execute_result",
          "data": {
            "text/plain": [
              "{'Витамины': 8,\n",
              " 'Игрушки': 2,\n",
              " 'Корм': 0,\n",
              " 'Лакомства': 1,\n",
              " 'Лежанка': 5,\n",
              " 'Миска': 6,\n",
              " 'Наполнители': 3,\n",
              " 'Ошейники': 7,\n",
              " 'Прочая косметика': 10,\n",
              " 'Рулетки': 9,\n",
              " 'Шампунь': 4,\n",
              " 'Шлейки': 11}"
            ]
          },
          "metadata": {},
          "execution_count": 33
        }
      ]
    },
    {
      "cell_type": "code",
      "source": [
        "data_labeled[data_labeled.index==2050].iloc[0,img_column]"
      ],
      "metadata": {
        "colab": {
          "base_uri": "https://localhost:8080/",
          "height": 35
        },
        "id": "j89X64lQS0nV",
        "outputId": "bcc68e3f-1237-4a09-c294-d986398fa7ab"
      },
      "execution_count": null,
      "outputs": [
        {
          "output_type": "execute_result",
          "data": {
            "text/plain": [
              "'https://static.insales-cdn.com/images/products/1/5061/179327941/315174_1600x1600.jpg'"
            ],
            "application/vnd.google.colaboratory.intrinsic+json": {
              "type": "string"
            }
          },
          "metadata": {},
          "execution_count": 34
        }
      ]
    },
    {
      "cell_type": "code",
      "source": [
        "dataset_prepare = []\n",
        "cat_counter = np.zeros(len(cats_dict))\n",
        "categories = get_categories(cats, min_count)\n",
        "for i in data_labeled.index:\n",
        "  data_raw = data_labeled[data_labeled.index == i]\n",
        "  if data_raw.iloc[0,category_column] in categories:\n",
        "    if cat_counter[cats_dict[data_raw.iloc[0,category_column]]] < max_count:\n",
        "      data_row = [data_raw.iloc[0,num_column],  # артикул\n",
        "                  data_raw.iloc[0,img_column],  # ссылка на картинку\n",
        "                  clean_string(data_raw.iloc[0,description_column]),  # очищенная строка описания\n",
        "                  cats_dict[data_raw.iloc[0,category_column]]]  # номер категории\n",
        "      dataset_prepare.append(data_row)\n",
        "      cat_counter[cats_dict[data_raw.iloc[0,category_column]]] += 1"
      ],
      "metadata": {
        "id": "91pemvTVRopS"
      },
      "execution_count": null,
      "outputs": []
    },
    {
      "cell_type": "code",
      "source": [
        "cat_counter"
      ],
      "metadata": {
        "colab": {
          "base_uri": "https://localhost:8080/"
        },
        "id": "ghaR4Vq0cJzn",
        "outputId": "714e562d-50ca-4f22-c589-4d5f25dfd107"
      },
      "execution_count": null,
      "outputs": [
        {
          "output_type": "execute_result",
          "data": {
            "text/plain": [
              "array([188., 188., 188., 188., 188., 178., 161., 157., 140., 136., 133.,\n",
              "       126.])"
            ]
          },
          "metadata": {},
          "execution_count": 36
        }
      ]
    },
    {
      "cell_type": "code",
      "source": [
        "dataset_prepare[4][1]"
      ],
      "metadata": {
        "colab": {
          "base_uri": "https://localhost:8080/",
          "height": 35
        },
        "id": "tHe4U0fbWAA-",
        "outputId": "46db4de9-ee92-41b1-82dc-ce386a74e662"
      },
      "execution_count": null,
      "outputs": [
        {
          "output_type": "execute_result",
          "data": {
            "text/plain": [
              "'https://static.insales-cdn.com/images/products/1/5262/132969614/1st-choice-home-cats-chicken.jpg'"
            ],
            "application/vnd.google.colaboratory.intrinsic+json": {
              "type": "string"
            }
          },
          "metadata": {},
          "execution_count": 37
        }
      ]
    },
    {
      "cell_type": "markdown",
      "source": [
        "### Попытка Asyncio загрузки"
      ],
      "metadata": {
        "id": "FdLIQCMbvVPp"
      }
    },
    {
      "cell_type": "code",
      "source": [
        "'''\n",
        "def insert_pic_data(i, pic_data, data_row):\n",
        "  data_row[1] = array_img(pic_data, img_size)\n",
        "#  await asyncio.sleep(random.random())\n",
        "  return data_row\n",
        "\n",
        "async def load_pic(session, data_row, i):\n",
        "  await asyncio.sleep(random.random())\n",
        "  async with session.get(data_row[1]) as response:\n",
        "    if response.status == 200:\n",
        "      img_loading = await response.read()\n",
        "      return insert_pic_data(i, img_loading, data_row)\n",
        "    else:\n",
        "      print(url)"
      ],
      "metadata": {
        "id": "6Lhef0kjCVzN"
      },
      "execution_count": null,
      "outputs": []
    },
    {
      "cell_type": "code",
      "source": [
        "'''\n",
        "dataset = dataset_prepare[0:5].copy()\n",
        "data_set = []\n",
        "# formated_data = []\n",
        "# for i in data_labeled.index:\n",
        "#  img_url = data_labeled.iloc[i,img_column]\n",
        "#  formated_data = [load_img(img_url, img_size)] + [clean_string(data_labeled.iloc[i,description_column])]\n",
        "async def make_dataset():\n",
        "  tasks = []\n",
        "  async with aiohttp.ClientSession() as session:\n",
        "    for i, data_row in enumerate(dataset):\n",
        "      tasks.append(load_pic(session, data_row.copy(), i))\n",
        "    data_set = await asyncio.gather(*tasks)\n",
        "    print(data_set)\n",
        "loop = asyncio.get_event_loop()\n",
        "loop.run_until_complete(make_dataset())"
      ],
      "metadata": {
        "id": "Og5dX7GT8_HD"
      },
      "execution_count": null,
      "outputs": []
    },
    {
      "cell_type": "markdown",
      "source": [
        "### Загрузка фоток"
      ],
      "metadata": {
        "id": "7nnnrkUkvcti"
      }
    },
    {
      "cell_type": "code",
      "source": [
        "data_set = []"
      ],
      "metadata": {
        "id": "nVcvDWsEWLSo"
      },
      "execution_count": null,
      "outputs": []
    },
    {
      "cell_type": "code",
      "source": [
        "if loading:\n",
        "  for i, data_row in enumerate(dataset_prepare):\n",
        "    try_num = 0\n",
        "    if i >= len(data_set):\n",
        "      data_set.append(data_row)\n",
        "    while type(data_set[i][1]) == str or data_set[i][1].shape :\n",
        "      try:\n",
        "        data_set[i][1] = load_img(data_row[1].split()[0], img_size)\n",
        "      except:\n",
        "        try_num += 1\n",
        "        if try_num > 4:\n",
        "          break\n",
        "        time.sleep(try_num)"
      ],
      "metadata": {
        "id": "auh-y4AuQbXl"
      },
      "execution_count": null,
      "outputs": []
    },
    {
      "cell_type": "code",
      "source": [
        "print(load_img(dataset_prepare[1][1].split()[0], img_size).shape)\n",
        "plt.imshow(load_img(dataset_prepare[1][120].split()[0], img_size)[:,:,:3])"
      ],
      "metadata": {
        "id": "iwt2LJBW4f3H",
        "colab": {
          "base_uri": "https://localhost:8080/",
          "height": 201
        },
        "outputId": "5b591ca2-c056-4bf5-c0bf-0a09d1c97e23"
      },
      "execution_count": null,
      "outputs": [
        {
          "output_type": "stream",
          "name": "stdout",
          "text": [
            "(300, 300, 4)\n"
          ]
        },
        {
          "output_type": "error",
          "ename": "IndexError",
          "evalue": "ignored",
          "traceback": [
            "\u001b[0;31m---------------------------------------------------------------------------\u001b[0m",
            "\u001b[0;31mIndexError\u001b[0m                                Traceback (most recent call last)",
            "\u001b[0;32m<ipython-input-40-7d37fed1b355>\u001b[0m in \u001b[0;36m<module>\u001b[0;34m()\u001b[0m\n\u001b[1;32m      1\u001b[0m \u001b[0mprint\u001b[0m\u001b[0;34m(\u001b[0m\u001b[0mload_img\u001b[0m\u001b[0;34m(\u001b[0m\u001b[0mdataset_prepare\u001b[0m\u001b[0;34m[\u001b[0m\u001b[0;36m1\u001b[0m\u001b[0;34m]\u001b[0m\u001b[0;34m[\u001b[0m\u001b[0;36m1\u001b[0m\u001b[0;34m]\u001b[0m\u001b[0;34m.\u001b[0m\u001b[0msplit\u001b[0m\u001b[0;34m(\u001b[0m\u001b[0;34m)\u001b[0m\u001b[0;34m[\u001b[0m\u001b[0;36m0\u001b[0m\u001b[0;34m]\u001b[0m\u001b[0;34m,\u001b[0m \u001b[0mimg_size\u001b[0m\u001b[0;34m)\u001b[0m\u001b[0;34m.\u001b[0m\u001b[0mshape\u001b[0m\u001b[0;34m)\u001b[0m\u001b[0;34m\u001b[0m\u001b[0;34m\u001b[0m\u001b[0m\n\u001b[0;32m----> 2\u001b[0;31m \u001b[0mplt\u001b[0m\u001b[0;34m.\u001b[0m\u001b[0mimshow\u001b[0m\u001b[0;34m(\u001b[0m\u001b[0mload_img\u001b[0m\u001b[0;34m(\u001b[0m\u001b[0mdataset_prepare\u001b[0m\u001b[0;34m[\u001b[0m\u001b[0;36m1\u001b[0m\u001b[0;34m]\u001b[0m\u001b[0;34m[\u001b[0m\u001b[0;36m120\u001b[0m\u001b[0;34m]\u001b[0m\u001b[0;34m.\u001b[0m\u001b[0msplit\u001b[0m\u001b[0;34m(\u001b[0m\u001b[0;34m)\u001b[0m\u001b[0;34m[\u001b[0m\u001b[0;36m0\u001b[0m\u001b[0;34m]\u001b[0m\u001b[0;34m,\u001b[0m \u001b[0mimg_size\u001b[0m\u001b[0;34m)\u001b[0m\u001b[0;34m[\u001b[0m\u001b[0;34m:\u001b[0m\u001b[0;34m,\u001b[0m\u001b[0;34m:\u001b[0m\u001b[0;34m,\u001b[0m\u001b[0;34m:\u001b[0m\u001b[0;36m3\u001b[0m\u001b[0;34m]\u001b[0m\u001b[0;34m)\u001b[0m\u001b[0;34m\u001b[0m\u001b[0;34m\u001b[0m\u001b[0m\n\u001b[0m",
            "\u001b[0;31mIndexError\u001b[0m: list index out of range"
          ]
        }
      ]
    },
    {
      "cell_type": "code",
      "source": [
        "if loading:\n",
        "  with open(pic_dir+'data.pickle', 'wb') as f:\n",
        "    pickle.dump(data_set, f)"
      ],
      "metadata": {
        "id": "TCTUHtXyxpq2"
      },
      "execution_count": null,
      "outputs": []
    },
    {
      "cell_type": "code",
      "source": [
        "if not loading:\n",
        "  with open(pic_dir+'data.pickle', 'rb') as f:\n",
        "    data_set = pickle.load(f)"
      ],
      "metadata": {
        "id": "RYgii962VjuO"
      },
      "execution_count": null,
      "outputs": []
    },
    {
      "cell_type": "code",
      "source": [
        "full_data = np.array(data_set)"
      ],
      "metadata": {
        "colab": {
          "base_uri": "https://localhost:8080/"
        },
        "id": "Bf9kfcY_CwNi",
        "outputId": "4b9e44ad-a6d9-45ac-94cc-a818a06e7e52"
      },
      "execution_count": null,
      "outputs": [
        {
          "output_type": "stream",
          "name": "stderr",
          "text": [
            "/usr/local/lib/python3.7/dist-packages/ipykernel_launcher.py:1: VisibleDeprecationWarning: Creating an ndarray from ragged nested sequences (which is a list-or-tuple of lists-or-tuples-or ndarrays with different lengths or shapes) is deprecated. If you meant to do this, you must specify 'dtype=object' when creating the ndarray.\n",
            "  \"\"\"Entry point for launching an IPython kernel.\n"
          ]
        }
      ]
    },
    {
      "cell_type": "code",
      "source": [
        "full_data[:-1,:].shape"
      ],
      "metadata": {
        "colab": {
          "base_uri": "https://localhost:8080/"
        },
        "id": "4LzS0o0iDdSq",
        "outputId": "77314942-1152-430f-cb48-55e906a161dc"
      },
      "execution_count": null,
      "outputs": [
        {
          "output_type": "execute_result",
          "data": {
            "text/plain": [
              "(1970, 4)"
            ]
          },
          "metadata": {},
          "execution_count": 44
        }
      ]
    },
    {
      "cell_type": "markdown",
      "source": [
        "# Нейросеть"
      ],
      "metadata": {
        "id": "OeYk9jCT6zuV"
      }
    },
    {
      "cell_type": "code",
      "source": [
        "from sklearn.model_selection import train_test_split"
      ],
      "metadata": {
        "id": "JHenjW4TETZh"
      },
      "execution_count": null,
      "outputs": []
    },
    {
      "cell_type": "code",
      "source": [
        ""
      ],
      "metadata": {
        "id": "9c4KBs0uGu5j"
      },
      "execution_count": null,
      "outputs": []
    },
    {
      "cell_type": "markdown",
      "source": [
        "## Выборки"
      ],
      "metadata": {
        "id": "kBGdrjHGEGvq"
      }
    },
    {
      "cell_type": "code",
      "source": [
        "x_train, x_test, y_train, y_test = train_test_split(full_data[:,1:3], full_data[:,3], test_size=0.1)"
      ],
      "metadata": {
        "id": "SiLZ3I2vEK4J"
      },
      "execution_count": null,
      "outputs": []
    },
    {
      "cell_type": "code",
      "source": [
        "y_train = tf.keras.utils.to_categorical(y_train, num_classes=len(cats_dict))\n",
        "y_test = tf.keras.utils.to_categorical(y_test, num_classes=len(cats_dict))"
      ],
      "metadata": {
        "id": "4VV_rDPXGsPi"
      },
      "execution_count": null,
      "outputs": []
    },
    {
      "cell_type": "code",
      "source": [
        "tokenizer = tf.keras.preprocessing.text.Tokenizer(num_words=VOCAB_SIZE)"
      ],
      "metadata": {
        "id": "nhkL6OC8AhJ9"
      },
      "execution_count": null,
      "outputs": []
    },
    {
      "cell_type": "code",
      "source": [
        "tokenizer.fit_on_texts(x_train[:,1])"
      ],
      "metadata": {
        "id": "IOKiC_CvCWkg"
      },
      "execution_count": null,
      "outputs": []
    },
    {
      "cell_type": "code",
      "source": [
        "x_train[:,1] = tokenizer.texts_to_sequences(x_train[:,1])"
      ],
      "metadata": {
        "id": "hmI52tJdC24e"
      },
      "execution_count": null,
      "outputs": []
    },
    {
      "cell_type": "code",
      "source": [
        "x_test[:,1] = tokenizer.texts_to_sequences(x_test[:,1])"
      ],
      "metadata": {
        "id": "AFrVEQHZw3_C"
      },
      "execution_count": null,
      "outputs": []
    },
    {
      "cell_type": "code",
      "source": [
        "x_train[2,1][:5] # = tf.keras.preprocessing.sequence.pad_sequences(x_train[:,1], maxlen=desc_len, padding=\"post\")"
      ],
      "metadata": {
        "colab": {
          "base_uri": "https://localhost:8080/"
        },
        "id": "TKBtNwt5Fk03",
        "outputId": "0c706cb9-e3e4-44a9-a7cf-a67936952fe8"
      },
      "execution_count": null,
      "outputs": [
        {
          "output_type": "execute_result",
          "data": {
            "text/plain": [
              "[1926, 1322, 403, 35, 56]"
            ]
          },
          "metadata": {},
          "execution_count": 52
        }
      ]
    },
    {
      "cell_type": "code",
      "source": [
        "for seq in x_train[:,1]:\n",
        "  while len(seq) < desc_len:\n",
        "    seq.append(0)"
      ],
      "metadata": {
        "id": "mk7mehzuU2KN"
      },
      "execution_count": null,
      "outputs": []
    },
    {
      "cell_type": "code",
      "source": [
        "x_train_desc = tokenizer.sequences_to_matrix([x_train[:,1][0]])\n",
        "for seq in x_train[:,1][1:]:\n",
        "  x_train_desc = np.vstack((x_train_desc, tokenizer.sequences_to_matrix([seq[:desc_len]])))\n",
        "x_train_desc.shape"
      ],
      "metadata": {
        "colab": {
          "base_uri": "https://localhost:8080/"
        },
        "id": "No3XcCclkyMC",
        "outputId": "ef32ebf9-dcc3-4b7a-f46b-6e3b53968df4"
      },
      "execution_count": null,
      "outputs": [
        {
          "output_type": "execute_result",
          "data": {
            "text/plain": [
              "(1773, 5000)"
            ]
          },
          "metadata": {},
          "execution_count": 54
        }
      ]
    },
    {
      "cell_type": "code",
      "source": [
        "for seq in x_test[:,1]:\n",
        "  while len(seq) < desc_len:\n",
        "    seq.append(0)"
      ],
      "metadata": {
        "id": "-teKEXPpwrtb"
      },
      "execution_count": null,
      "outputs": []
    },
    {
      "cell_type": "code",
      "source": [
        "x_test_desc = tokenizer.sequences_to_matrix([x_test[:,1][0]])\n",
        "for seq in x_test[:,1][1:]:\n",
        "  x_test_desc = np.vstack((x_test_desc, tokenizer.sequences_to_matrix([seq[:desc_len]])))\n",
        "x_test_desc.shape"
      ],
      "metadata": {
        "colab": {
          "base_uri": "https://localhost:8080/"
        },
        "id": "rjkMtSY9wecR",
        "outputId": "db44428c-e3ae-4dfe-ccd8-c89b9c9da352"
      },
      "execution_count": null,
      "outputs": [
        {
          "output_type": "execute_result",
          "data": {
            "text/plain": [
              "(198, 5000)"
            ]
          },
          "metadata": {},
          "execution_count": 56
        }
      ]
    },
    {
      "cell_type": "code",
      "source": [
        "x_train_pic = np.asarray(x_train[:,0])"
      ],
      "metadata": {
        "id": "i_kAQ635x8rB"
      },
      "execution_count": null,
      "outputs": []
    },
    {
      "cell_type": "code",
      "source": [
        "x_train_pic = np.expand_dims(x_train[:,0][0][:,:,:3], axis=0)\n",
        "for i, pic in enumerate(x_train[:,0][1:]):\n",
        "  try:\n",
        "    x_train_pic = np.vstack((x_train_pic, np.expand_dims(pic[:,:,:3], axis=0)))\n",
        "  except:\n",
        "    print(i+1, pic.shape)\n",
        "    temp_img = Image.fromarray(pic)\n",
        "    temp_img = temp_img.convert(mode='RGB')\n",
        "    print(np.asarray(temp_img).shape)\n",
        "    x_train_pic = np.vstack((x_train_pic, np.expand_dims(np.asarray(temp_img), axis=0)))\n",
        "x_train_pic.shape"
      ],
      "metadata": {
        "colab": {
          "base_uri": "https://localhost:8080/"
        },
        "id": "li0zP_0x0Qza",
        "outputId": "1d70a320-9541-4202-d1ab-1753e5b100b7"
      },
      "execution_count": null,
      "outputs": [
        {
          "output_type": "stream",
          "name": "stdout",
          "text": [
            "30 (300, 300)\n",
            "(300, 300, 3)\n",
            "293 (300, 300)\n",
            "(300, 300, 3)\n",
            "396 (300, 300)\n",
            "(300, 300, 3)\n",
            "853 (300, 300)\n",
            "(300, 300, 3)\n",
            "976 (300, 300)\n",
            "(300, 300, 3)\n",
            "1044 (300, 300)\n",
            "(300, 300, 3)\n",
            "1144 (300, 300)\n",
            "(300, 300, 3)\n",
            "1282 (300, 300)\n",
            "(300, 300, 3)\n",
            "1325 (300, 300)\n",
            "(300, 300, 3)\n",
            "1676 (300, 300)\n",
            "(300, 300, 3)\n"
          ]
        },
        {
          "output_type": "execute_result",
          "data": {
            "text/plain": [
              "(1773, 300, 300, 3)"
            ]
          },
          "metadata": {},
          "execution_count": 65
        }
      ]
    },
    {
      "cell_type": "code",
      "source": [
        "x_test_pic = np.expand_dims(x_test[:,0][0][:,:,:3], axis=0)\n",
        "for i, pic in enumerate(x_test[:,0][1:]):\n",
        "  try:\n",
        "    x_test_pic = np.vstack((x_test_pic, np.expand_dims(pic[:,:,:3], axis=0)))\n",
        "  except:\n",
        "    print(i+1, pic.shape)\n",
        "    temp_img = Image.fromarray(pic)\n",
        "    temp_img = temp_img.convert(mode='RGB')\n",
        "    print(np.asarray(temp_img).shape)\n",
        "    x_test_pic = np.vstack((x_test_pic, np.expand_dims(np.asarray(temp_img), axis=0)))\n",
        "x_test_pic.shape"
      ],
      "metadata": {
        "colab": {
          "base_uri": "https://localhost:8080/"
        },
        "outputId": "42bb93b7-f7b8-4328-c612-82d1d966ebdc",
        "id": "IA1N3LMGHgia"
      },
      "execution_count": null,
      "outputs": [
        {
          "output_type": "stream",
          "name": "stdout",
          "text": [
            "179 (300, 300)\n",
            "(300, 300, 3)\n"
          ]
        },
        {
          "output_type": "execute_result",
          "data": {
            "text/plain": [
              "(198, 300, 300, 3)"
            ]
          },
          "metadata": {},
          "execution_count": 58
        }
      ]
    },
    {
      "cell_type": "code",
      "source": [
        " if loading:\n",
        "  with open(pic_dir+'train.pickle', 'wb') as f:\n",
        "    pickle.dump([x_train_pic, x_train_desc, y_train], f)\n",
        "  with open(pic_dir+'test.pickle', 'wb') as f:\n",
        "    pickle.dump([x_test_pic, x_test_desc, y_test], f)"
      ],
      "metadata": {
        "id": "14MdBHRuJzJy"
      },
      "execution_count": null,
      "outputs": []
    },
    {
      "cell_type": "code",
      "source": [
        "if not loading:\n",
        "  with open(pic_dir+'train.pickle', 'rb') as f:\n",
        "    x_train_pic, x_train_desc, y_train = pickle.load(f)\n",
        "  with open(pic_dir+'test.pickle', 'rb') as f:\n",
        "    x_test_pic, x_test_desc, y_test = pickle.load(f)"
      ],
      "metadata": {
        "id": "bymxvJOXK14a"
      },
      "execution_count": null,
      "outputs": []
    },
    {
      "cell_type": "markdown",
      "source": [
        "## Архитектура"
      ],
      "metadata": {
        "id": "cF97JbNlEMNh"
      }
    },
    {
      "cell_type": "code",
      "source": [
        "batch_size = 64"
      ],
      "metadata": {
        "id": "6zXliKK1ApLf"
      },
      "execution_count": null,
      "outputs": []
    },
    {
      "cell_type": "code",
      "source": [
        "x_train[:,0][1].shape"
      ],
      "metadata": {
        "colab": {
          "base_uri": "https://localhost:8080/"
        },
        "id": "AvWcNLi8sUfC",
        "outputId": "6bf9740d-0458-48aa-b1f4-d77d81e71ab5"
      },
      "execution_count": null,
      "outputs": [
        {
          "output_type": "execute_result",
          "data": {
            "text/plain": [
              "(300, 300, 3)"
            ]
          },
          "metadata": {},
          "execution_count": 60
        }
      ]
    },
    {
      "cell_type": "code",
      "source": [
        "input_1 = tf.keras.layers.Input(x_train[:,0][1].shape)\n",
        "x = tf.keras.layers.Normalization() (input_1)\n",
        "x = tf.keras.layers.Conv2D(16, (5,5), activation='relu', padding = 'same') (x)\n",
        "x = tf.keras.layers.Conv2D(16, (5,5), activation='relu', padding = 'same') (x)\n",
        "x = tf.keras.layers.MaxPooling2D(pool_size = (5,5)) (x)\n",
        "x = tf.keras.layers.Conv2D(32, (3,3), activation='relu', padding = 'same') (x)\n",
        "x = tf.keras.layers.Conv2D(32, (3,3), activation='relu', padding = 'same') (x)\n",
        "x = tf.keras.layers.MaxPooling2D(pool_size = (3,3)) (x)\n",
        "x = tf.keras.layers.Conv2D(64, (4,4), activation='relu', padding = 'same') (x)\n",
        "x = tf.keras.layers.Conv2D(64, (4,4), activation='relu', padding = 'same') (x)\n",
        "x = tf.keras.layers.MaxPooling2D(pool_size = (4,4)) (x)\n",
        "x = tf.keras.layers.Flatten()(x)\n",
        "x = tf.keras.layers.Dense(128, activation=\"relu\") (x)\n",
        "x = tf.keras.layers.Dropout(0.1)(x)\n",
        "x = tf.keras.layers.Dense(len(cats_dict), activation=\"relu\") (x)\n",
        "\n",
        "input_2 = tf.keras.layers.Input((VOCAB_SIZE))\n",
        "x1 = tf.keras.layers.Dense(8*desc_len, activation=\"relu\") (input_2)\n",
        "x1 = tf.keras.layers.Dropout(0.6)(x1)\n",
        "x1 = tf.keras.layers.Dense(4*desc_len, activation=\"relu\") (x1)\n",
        "x1 = tf.keras.layers.Dropout(0.6)(x1)\n",
        "x1 = tf.keras.layers.Dense(desc_len, activation=\"relu\") (x1)\n",
        "\n",
        "y = tf.keras.layers.concatenate([x, x1])\n",
        "output = tf.keras.layers.Dense(len(cats_dict), activation=\"softmax\") (y)\n",
        "\n",
        "model = tf.keras.Model(inputs=[input_1, input_2], outputs=output)"
      ],
      "metadata": {
        "id": "I8AMlpT-66Vv"
      },
      "execution_count": null,
      "outputs": []
    },
    {
      "cell_type": "code",
      "source": [
        "model.summary()"
      ],
      "metadata": {
        "colab": {
          "base_uri": "https://localhost:8080/"
        },
        "id": "UFetZtgu4Y0g",
        "outputId": "00b6701b-63f7-478d-9d45-81e057b08ef6"
      },
      "execution_count": null,
      "outputs": [
        {
          "output_type": "stream",
          "name": "stdout",
          "text": [
            "Model: \"model_11\"\n",
            "__________________________________________________________________________________________________\n",
            " Layer (type)                   Output Shape         Param #     Connected to                     \n",
            "==================================================================================================\n",
            " input_23 (InputLayer)          [(None, 300, 300, 3  0           []                               \n",
            "                                )]                                                                \n",
            "                                                                                                  \n",
            " normalization_11 (Normalizatio  (None, 300, 300, 3)  7          ['input_23[0][0]']               \n",
            " n)                                                                                               \n",
            "                                                                                                  \n",
            " conv2d_36 (Conv2D)             (None, 300, 300, 16  1216        ['normalization_11[0][0]']       \n",
            "                                )                                                                 \n",
            "                                                                                                  \n",
            " conv2d_37 (Conv2D)             (None, 300, 300, 16  6416        ['conv2d_36[0][0]']              \n",
            "                                )                                                                 \n",
            "                                                                                                  \n",
            " max_pooling2d_18 (MaxPooling2D  (None, 60, 60, 16)  0           ['conv2d_37[0][0]']              \n",
            " )                                                                                                \n",
            "                                                                                                  \n",
            " conv2d_38 (Conv2D)             (None, 60, 60, 32)   4640        ['max_pooling2d_18[0][0]']       \n",
            "                                                                                                  \n",
            " conv2d_39 (Conv2D)             (None, 60, 60, 32)   9248        ['conv2d_38[0][0]']              \n",
            "                                                                                                  \n",
            " max_pooling2d_19 (MaxPooling2D  (None, 20, 20, 32)  0           ['conv2d_39[0][0]']              \n",
            " )                                                                                                \n",
            "                                                                                                  \n",
            " conv2d_40 (Conv2D)             (None, 20, 20, 64)   32832       ['max_pooling2d_19[0][0]']       \n",
            "                                                                                                  \n",
            " conv2d_41 (Conv2D)             (None, 20, 20, 64)   65600       ['conv2d_40[0][0]']              \n",
            "                                                                                                  \n",
            " input_24 (InputLayer)          [(None, 5000)]       0           []                               \n",
            "                                                                                                  \n",
            " max_pooling2d_20 (MaxPooling2D  (None, 5, 5, 64)    0           ['conv2d_41[0][0]']              \n",
            " )                                                                                                \n",
            "                                                                                                  \n",
            " dense_54 (Dense)               (None, 320)          1600320     ['input_24[0][0]']               \n",
            "                                                                                                  \n",
            " flatten_11 (Flatten)           (None, 1600)         0           ['max_pooling2d_20[0][0]']       \n",
            "                                                                                                  \n",
            " dropout_23 (Dropout)           (None, 320)          0           ['dense_54[0][0]']               \n",
            "                                                                                                  \n",
            " dense_52 (Dense)               (None, 128)          204928      ['flatten_11[0][0]']             \n",
            "                                                                                                  \n",
            " dense_55 (Dense)               (None, 160)          51360       ['dropout_23[0][0]']             \n",
            "                                                                                                  \n",
            " dropout_22 (Dropout)           (None, 128)          0           ['dense_52[0][0]']               \n",
            "                                                                                                  \n",
            " dropout_24 (Dropout)           (None, 160)          0           ['dense_55[0][0]']               \n",
            "                                                                                                  \n",
            " dense_53 (Dense)               (None, 12)           1548        ['dropout_22[0][0]']             \n",
            "                                                                                                  \n",
            " dense_56 (Dense)               (None, 40)           6440        ['dropout_24[0][0]']             \n",
            "                                                                                                  \n",
            " concatenate_11 (Concatenate)   (None, 52)           0           ['dense_53[0][0]',               \n",
            "                                                                  'dense_56[0][0]']               \n",
            "                                                                                                  \n",
            " dense_57 (Dense)               (None, 12)           636         ['concatenate_11[0][0]']         \n",
            "                                                                                                  \n",
            "==================================================================================================\n",
            "Total params: 1,985,191\n",
            "Trainable params: 1,985,184\n",
            "Non-trainable params: 7\n",
            "__________________________________________________________________________________________________\n"
          ]
        }
      ]
    },
    {
      "cell_type": "code",
      "source": [
        "model.compile(loss=\"categorical_crossentropy\", optimizer=\"Adam\", metrics=\"accuracy\")"
      ],
      "metadata": {
        "id": "ijxdrfd7_jfV"
      },
      "execution_count": null,
      "outputs": []
    },
    {
      "cell_type": "markdown",
      "source": [
        "## Обучение"
      ],
      "metadata": {
        "id": "pGPnrgtFEQRp"
      }
    },
    {
      "cell_type": "code",
      "source": [
        "model.fit([x_train_pic, x_train_desc],\n",
        "          y_train,\n",
        "          epochs=10,\n",
        "          batch_size=32,\n",
        "          validation_data=([x_test_pic, x_test_desc],\n",
        "                           y_test)\n",
        "          )"
      ],
      "metadata": {
        "id": "LFLvWOwW6pML",
        "colab": {
          "base_uri": "https://localhost:8080/"
        },
        "outputId": "0f640fab-bb3e-4452-c46f-d5c543c6ae0b"
      },
      "execution_count": null,
      "outputs": [
        {
          "output_type": "stream",
          "name": "stdout",
          "text": [
            "Epoch 1/10\n",
            "56/56 [==============================] - 18s 295ms/step - loss: 2.4834 - accuracy: 0.2352 - val_loss: 1.6064 - val_accuracy: 0.8030\n",
            "Epoch 2/10\n",
            "56/56 [==============================] - 16s 290ms/step - loss: 1.0258 - accuracy: 0.7259 - val_loss: 0.2496 - val_accuracy: 0.9293\n",
            "Epoch 3/10\n",
            "56/56 [==============================] - 16s 290ms/step - loss: 0.3327 - accuracy: 0.9030 - val_loss: 0.1471 - val_accuracy: 0.9444\n",
            "Epoch 4/10\n",
            "56/56 [==============================] - 16s 290ms/step - loss: 0.1834 - accuracy: 0.9566 - val_loss: 0.1210 - val_accuracy: 0.9596\n",
            "Epoch 5/10\n",
            "56/56 [==============================] - 16s 289ms/step - loss: 0.1150 - accuracy: 0.9695 - val_loss: 0.1555 - val_accuracy: 0.9495\n",
            "Epoch 6/10\n",
            "56/56 [==============================] - 16s 290ms/step - loss: 0.1095 - accuracy: 0.9695 - val_loss: 0.1495 - val_accuracy: 0.9596\n",
            "Epoch 7/10\n",
            "56/56 [==============================] - 16s 290ms/step - loss: 0.0745 - accuracy: 0.9803 - val_loss: 0.1222 - val_accuracy: 0.9596\n",
            "Epoch 8/10\n",
            "56/56 [==============================] - 16s 290ms/step - loss: 0.0772 - accuracy: 0.9769 - val_loss: 0.1095 - val_accuracy: 0.9596\n",
            "Epoch 9/10\n",
            "56/56 [==============================] - 16s 290ms/step - loss: 0.0622 - accuracy: 0.9848 - val_loss: 0.1192 - val_accuracy: 0.9596\n",
            "Epoch 10/10\n",
            "56/56 [==============================] - 16s 290ms/step - loss: 0.0622 - accuracy: 0.9853 - val_loss: 0.1377 - val_accuracy: 0.9495\n"
          ]
        },
        {
          "output_type": "execute_result",
          "data": {
            "text/plain": [
              "<keras.callbacks.History at 0x7f94644aa910>"
            ]
          },
          "metadata": {},
          "execution_count": 223
        }
      ]
    },
    {
      "cell_type": "markdown",
      "source": [
        "# Применение"
      ],
      "metadata": {
        "id": "fstVBbQ067A0"
      }
    },
    {
      "cell_type": "code",
      "source": [
        "def make_seq_pic_from_df(df, good_id):\n",
        "  url = df.iloc[good_id,img_column].split()[0]\n",
        "  pic = load_img(url)\n",
        "  if pic.shape != (300,300,3):\n",
        "    temp_img = Image.fromarray(pic)\n",
        "    temp_img = temp_img.convert(mode='RGB')\n",
        "    pic = np.asarray(temp_img)\n",
        "  return np.expand_dims(pic, axis=0)"
      ],
      "metadata": {
        "id": "i-S5qcBY7NH6"
      },
      "execution_count": null,
      "outputs": []
    },
    {
      "cell_type": "code",
      "source": [
        "def make_seq_desc_from_df(df, good_id):\n",
        "  desc = clean_string(df.iloc[good_id,description_column])\n",
        "  token_seq = tokenizer.texts_to_sequences([desc])\n",
        "  while len(token_seq[0]) < desc_len:\n",
        "    token_seq[0].append(0)\n",
        "  seq = tokenizer.sequences_to_matrix(token_seq[:desc_len])\n",
        "  return seq"
      ],
      "metadata": {
        "id": "8bpJ9AMaR_mE"
      },
      "execution_count": null,
      "outputs": []
    },
    {
      "cell_type": "code",
      "source": [
        "def make_input(df, good_id):\n",
        "  return [make_seq_pic_from_df(df, good_id), make_seq_desc_from_df(df, good_id)]"
      ],
      "metadata": {
        "id": "IRNHqK5ITDbE"
      },
      "execution_count": null,
      "outputs": []
    },
    {
      "cell_type": "code",
      "source": [
        "def good_info(df, good_id):\n",
        "  print(\"Название:\")\n",
        "  print(df.iloc[good_id,0])\n",
        "  print(\"Описание:\")\n",
        "  print(clean_string(df.iloc[good_id,description_column]))\n",
        "  plt.imshow(load_img(df.iloc[good_id,img_column].split()[0]))"
      ],
      "metadata": {
        "id": "XoRUN43wUZgY"
      },
      "execution_count": null,
      "outputs": []
    },
    {
      "cell_type": "code",
      "source": [
        "def make_prediction(model, df, good_id):\n",
        "  prediction = model.predict(make_input(df, good_id))\n",
        "  prediction_label = np.argmax(prediction)\n",
        "  return label_dict[prediction_label]"
      ],
      "metadata": {
        "id": "M0ZDHPXOW4zV"
      },
      "execution_count": null,
      "outputs": []
    },
    {
      "cell_type": "code",
      "source": [
        "good_id = random.randint(0, data_not_labeled.shape[0]-1)\n",
        "good_info(data_not_labeled, good_id)\n"
      ],
      "metadata": {
        "colab": {
          "base_uri": "https://localhost:8080/",
          "height": 324
        },
        "id": "tw0ZJ0QoTqlj",
        "outputId": "ca0867fa-b449-4b39-cb69-a3c79b596b73"
      },
      "execution_count": null,
      "outputs": [
        {
          "output_type": "stream",
          "name": "stdout",
          "text": [
            "Apicenna (Апи-Сан) - Умный Спрей защита мест НЕ предназначенных  для туалета кошек\n",
            "умный спрей защита мест не предназначенных для туалета кошек создан для того чтобы изменить привычку животного справлять нужду в неположенных местах легко справится с поставленной задачей подойдет для любых поверхностей сохранит домашний уют и здоровье всей семьи безопасен для людей и животных по карману любому владельцу домашнего животного имеет яркую оригинальную упаковку применение распылить с расстояния см на поверхности вызывающие предполагаемый или постоянный интерес животного применять раза в день до достижения эффекта для того чтобы изменить привычку животного справлять нужду в неположенных местах нужно предоставить ему место для справления естественных надобностей которое следует содержать в чистоте заметив признаки беспокойства связанные со справлением естественных нужд следует перенести питомца на место запланированное под туалет получится не сразу но когда животное справит нужду в положенном месте следует активно похвалить его и погладить на данном этапе внимание самая большая награда хранение хранить в упаковке производителя в сухом защищенном от света месте отдельно от пищевых продуктов и кормов при температуре от до градусов срок годности при соблюдении условий хранения года со дня производства состав в качестве действующих веществ умный спрей защита мест не предназначенных для туалета кошек содержит фрешен хербал эфирное масло апельсина метилпарабен спирт изопропиловый пропиленгликоль спирт изопропиловый кремофор синтанол эдта б и воду очищенную\n"
          ]
        },
        {
          "output_type": "display_data",
          "data": {
            "text/plain": [
              "<Figure size 432x288 with 1 Axes>"
            ],
            "image/png": "[encoded data removed]"
          },
          "metadata": {
            "needs_background": "light"
          }
        }
      ]
    },
    {
      "cell_type": "code",
      "source": [
        "make_prediction(model, data_not_labeled, good_id)"
      ],
      "metadata": {
        "colab": {
          "base_uri": "https://localhost:8080/",
          "height": 35
        },
        "id": "lVNZwTWZWDnk",
        "outputId": "418fe1a7-5ea3-47fa-c33b-512b73c0235c"
      },
      "execution_count": null,
      "outputs": [
        {
          "output_type": "execute_result",
          "data": {
            "text/plain": [
              "'Прочая косметика'"
            ],
            "application/vnd.google.colaboratory.intrinsic+json": {
              "type": "string"
            }
          },
          "metadata": {},
          "execution_count": 231
        }
      ]
    },
    {
      "cell_type": "code",
      "source": [
        "label_dict"
      ],
      "metadata": {
        "colab": {
          "base_uri": "https://localhost:8080/"
        },
        "id": "tqo5BOGLftCY",
        "outputId": "8ad3fe6e-bbd4-4614-8c27-3174ac45e322"
      },
      "execution_count": null,
      "outputs": [
        {
          "output_type": "execute_result",
          "data": {
            "text/plain": [
              "{0: 'Корм',\n",
              " 1: 'Лакомства',\n",
              " 2: 'Игрушки',\n",
              " 3: 'Наполнители',\n",
              " 4: 'Шампунь',\n",
              " 5: 'Лежанка',\n",
              " 6: 'Миска',\n",
              " 7: 'Ошейники',\n",
              " 8: 'Витамины',\n",
              " 9: 'Рулетки',\n",
              " 10: 'Прочая косметика',\n",
              " 11: 'Шлейки'}"
            ]
          },
          "metadata": {},
          "execution_count": 162
        }
      ]
    },
    {
      "cell_type": "markdown",
      "source": [
        "## New Section"
      ],
      "metadata": {
        "id": "Bzxwsiq3f7d8"
      }
    },
    {
      "cell_type": "code",
      "source": [
        "good_id = random.randint(0, data_labeled.shape[0]-1)\n",
        "good_info(data_labeled, good_id)\n"
      ],
      "metadata": {
        "colab": {
          "base_uri": "https://localhost:8080/",
          "height": 324
        },
        "outputId": "8da28d98-9e74-4676-ce45-47815ce5c800",
        "id": "xYbPmRwNf9pj"
      },
      "execution_count": null,
      "outputs": [
        {
          "output_type": "stream",
          "name": "stdout",
          "text": [
            "TiTBiT Мур - Паштет для кошек Мясное ассорти с курицей - 0,065 кг\n",
            "влажный корм мур больше чем мягкий и нежный мясной паштет это начало крепкой дружбы с ласковым домашним питомцем ваш гурман обязательно оценит изысканный вкус блюда и скажет мур р р в благодарность особый формат упаковки в виде тарелочки г удобен тем что содержит порцию оптимального размера которую не нужно убирать в холодильник упаковка легко сминается и превращается в блин высотой до мм который удобно утилизировать оптимальная порция для вашего питомца безопасная упаковка высокое содержание животного белка источник незаменимых аминокислот натуральное мясо без сои и консервантов содержит таурин и рыбий жир состав мясо и мясные субпродукты в том числе мясо курицы рыбий жир желеобразователь вода пищевая ценность протеин г жиры г зола г влага г ккал условия хранения хранить при температуре от с до с и относительной влажности не более после вскрытия банки хранить в холодильнике не более суток\n"
          ]
        },
        {
          "output_type": "display_data",
          "data": {
            "text/plain": [
              "<Figure size 432x288 with 1 Axes>"
            ],
            "image/png": "[encoded data removed]"
          },
          "metadata": {
            "needs_background": "light"
          }
        }
      ]
    },
    {
      "cell_type": "code",
      "source": [
        "make_prediction(model, data_labeled, good_id)"
      ],
      "metadata": {
        "colab": {
          "base_uri": "https://localhost:8080/",
          "height": 35
        },
        "outputId": "3d59e03a-325a-47af-bec4-00370d8010a0",
        "id": "X2ulxOBmf9pj"
      },
      "execution_count": null,
      "outputs": [
        {
          "output_type": "execute_result",
          "data": {
            "text/plain": [
              "'Лакомства'"
            ],
            "application/vnd.google.colaboratory.intrinsic+json": {
              "type": "string"
            }
          },
          "metadata": {},
          "execution_count": 235
        }
      ]
    }
  ]
}